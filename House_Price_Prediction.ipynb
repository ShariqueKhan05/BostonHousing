{
 "cells": [
  {
   "cell_type": "code",
   "execution_count": 223,
   "id": "a6e30337",
   "metadata": {},
   "outputs": [],
   "source": [
    "import numpy as np\n",
    "import pandas as pd\n",
    "\n",
    "from sklearn.linear_model import LinearRegression,Ridge,Lasso\n",
    "from sklearn.preprocessing import OneHotEncoder,MinMaxScaler,StandardScaler\n",
    "from statsmodels.stats.outliers_influence import variance_inflation_factor\n",
    "from sklearn.impute import KNNImputer\n",
    "from sklearn.model_selection import train_test_split, GridSearchCV, RandomizedSearchCV\n",
    "from sklearn.metrics import mean_absolute_error,mean_squared_error,r2_score\n",
    "from sklearn.neighbors import KNeighborsRegressor\n",
    "from sklearn.tree import DecisionTreeRegressor\n",
    "from sklearn.ensemble import BaggingRegressor,RandomForestRegressor, AdaBoostRegressor\n",
    "\n",
    "import matplotlib.pyplot as plt\n",
    "import seaborn as sns\n",
    "\n",
    "import warnings\n",
    "warnings.filterwarnings('ignore')\n",
    "\n",
    "from sklearn.datasets import load_boston"
   ]
  },
  {
   "cell_type": "markdown",
   "id": "8a4ca4d2",
   "metadata": {},
   "source": [
    "## 1. Problem Statement"
   ]
  },
  {
   "cell_type": "code",
   "execution_count": null,
   "id": "c08bdb52",
   "metadata": {},
   "outputs": [],
   "source": [
    "Objective: Prediction of target price based on several independent variables\n",
    "Independent variables : 'CRIM', 'ZN', 'INDUS', 'CHAS', 'NOX', 'RM', 'AGE', 'DIS', 'RAD',\n",
    "       'TAX', 'PTRATIO', 'B', 'LSTAT'\n",
    "Dependent variable : 'Price'"
   ]
  },
  {
   "cell_type": "markdown",
   "id": "f211d7f2",
   "metadata": {},
   "source": [
    "## 2. Data Gathering"
   ]
  },
  {
   "cell_type": "code",
   "execution_count": 224,
   "id": "e526c4d5",
   "metadata": {},
   "outputs": [
    {
     "data": {
      "text/plain": [
       "['DESCR', 'data', 'data_module', 'feature_names', 'filename', 'target']"
      ]
     },
     "execution_count": 224,
     "metadata": {},
     "output_type": "execute_result"
    }
   ],
   "source": [
    "boston=load_boston()\n",
    "dir(boston)"
   ]
  },
  {
   "cell_type": "code",
   "execution_count": 225,
   "id": "c478e4a3",
   "metadata": {
    "scrolled": false
   },
   "outputs": [
    {
     "data": {
      "text/html": [
       "<div>\n",
       "<style scoped>\n",
       "    .dataframe tbody tr th:only-of-type {\n",
       "        vertical-align: middle;\n",
       "    }\n",
       "\n",
       "    .dataframe tbody tr th {\n",
       "        vertical-align: top;\n",
       "    }\n",
       "\n",
       "    .dataframe thead th {\n",
       "        text-align: right;\n",
       "    }\n",
       "</style>\n",
       "<table border=\"1\" class=\"dataframe\">\n",
       "  <thead>\n",
       "    <tr style=\"text-align: right;\">\n",
       "      <th></th>\n",
       "      <th>CRIM</th>\n",
       "      <th>ZN</th>\n",
       "      <th>INDUS</th>\n",
       "      <th>CHAS</th>\n",
       "      <th>NOX</th>\n",
       "      <th>RM</th>\n",
       "      <th>AGE</th>\n",
       "      <th>DIS</th>\n",
       "      <th>RAD</th>\n",
       "      <th>TAX</th>\n",
       "      <th>PTRATIO</th>\n",
       "      <th>B</th>\n",
       "      <th>LSTAT</th>\n",
       "      <th>PRICE</th>\n",
       "    </tr>\n",
       "  </thead>\n",
       "  <tbody>\n",
       "    <tr>\n",
       "      <th>0</th>\n",
       "      <td>0.00632</td>\n",
       "      <td>18.0</td>\n",
       "      <td>2.31</td>\n",
       "      <td>0.0</td>\n",
       "      <td>0.538</td>\n",
       "      <td>6.575</td>\n",
       "      <td>65.2</td>\n",
       "      <td>4.0900</td>\n",
       "      <td>1.0</td>\n",
       "      <td>296.0</td>\n",
       "      <td>15.3</td>\n",
       "      <td>396.90</td>\n",
       "      <td>4.98</td>\n",
       "      <td>24.0</td>\n",
       "    </tr>\n",
       "    <tr>\n",
       "      <th>1</th>\n",
       "      <td>0.02731</td>\n",
       "      <td>0.0</td>\n",
       "      <td>7.07</td>\n",
       "      <td>0.0</td>\n",
       "      <td>0.469</td>\n",
       "      <td>6.421</td>\n",
       "      <td>78.9</td>\n",
       "      <td>4.9671</td>\n",
       "      <td>2.0</td>\n",
       "      <td>242.0</td>\n",
       "      <td>17.8</td>\n",
       "      <td>396.90</td>\n",
       "      <td>9.14</td>\n",
       "      <td>21.6</td>\n",
       "    </tr>\n",
       "    <tr>\n",
       "      <th>2</th>\n",
       "      <td>0.02729</td>\n",
       "      <td>0.0</td>\n",
       "      <td>7.07</td>\n",
       "      <td>0.0</td>\n",
       "      <td>0.469</td>\n",
       "      <td>7.185</td>\n",
       "      <td>61.1</td>\n",
       "      <td>4.9671</td>\n",
       "      <td>2.0</td>\n",
       "      <td>242.0</td>\n",
       "      <td>17.8</td>\n",
       "      <td>392.83</td>\n",
       "      <td>4.03</td>\n",
       "      <td>34.7</td>\n",
       "    </tr>\n",
       "    <tr>\n",
       "      <th>3</th>\n",
       "      <td>0.03237</td>\n",
       "      <td>0.0</td>\n",
       "      <td>2.18</td>\n",
       "      <td>0.0</td>\n",
       "      <td>0.458</td>\n",
       "      <td>6.998</td>\n",
       "      <td>45.8</td>\n",
       "      <td>6.0622</td>\n",
       "      <td>3.0</td>\n",
       "      <td>222.0</td>\n",
       "      <td>18.7</td>\n",
       "      <td>394.63</td>\n",
       "      <td>2.94</td>\n",
       "      <td>33.4</td>\n",
       "    </tr>\n",
       "    <tr>\n",
       "      <th>4</th>\n",
       "      <td>0.06905</td>\n",
       "      <td>0.0</td>\n",
       "      <td>2.18</td>\n",
       "      <td>0.0</td>\n",
       "      <td>0.458</td>\n",
       "      <td>7.147</td>\n",
       "      <td>54.2</td>\n",
       "      <td>6.0622</td>\n",
       "      <td>3.0</td>\n",
       "      <td>222.0</td>\n",
       "      <td>18.7</td>\n",
       "      <td>396.90</td>\n",
       "      <td>5.33</td>\n",
       "      <td>36.2</td>\n",
       "    </tr>\n",
       "    <tr>\n",
       "      <th>...</th>\n",
       "      <td>...</td>\n",
       "      <td>...</td>\n",
       "      <td>...</td>\n",
       "      <td>...</td>\n",
       "      <td>...</td>\n",
       "      <td>...</td>\n",
       "      <td>...</td>\n",
       "      <td>...</td>\n",
       "      <td>...</td>\n",
       "      <td>...</td>\n",
       "      <td>...</td>\n",
       "      <td>...</td>\n",
       "      <td>...</td>\n",
       "      <td>...</td>\n",
       "    </tr>\n",
       "    <tr>\n",
       "      <th>501</th>\n",
       "      <td>0.06263</td>\n",
       "      <td>0.0</td>\n",
       "      <td>11.93</td>\n",
       "      <td>0.0</td>\n",
       "      <td>0.573</td>\n",
       "      <td>6.593</td>\n",
       "      <td>69.1</td>\n",
       "      <td>2.4786</td>\n",
       "      <td>1.0</td>\n",
       "      <td>273.0</td>\n",
       "      <td>21.0</td>\n",
       "      <td>391.99</td>\n",
       "      <td>9.67</td>\n",
       "      <td>22.4</td>\n",
       "    </tr>\n",
       "    <tr>\n",
       "      <th>502</th>\n",
       "      <td>0.04527</td>\n",
       "      <td>0.0</td>\n",
       "      <td>11.93</td>\n",
       "      <td>0.0</td>\n",
       "      <td>0.573</td>\n",
       "      <td>6.120</td>\n",
       "      <td>76.7</td>\n",
       "      <td>2.2875</td>\n",
       "      <td>1.0</td>\n",
       "      <td>273.0</td>\n",
       "      <td>21.0</td>\n",
       "      <td>396.90</td>\n",
       "      <td>9.08</td>\n",
       "      <td>20.6</td>\n",
       "    </tr>\n",
       "    <tr>\n",
       "      <th>503</th>\n",
       "      <td>0.06076</td>\n",
       "      <td>0.0</td>\n",
       "      <td>11.93</td>\n",
       "      <td>0.0</td>\n",
       "      <td>0.573</td>\n",
       "      <td>6.976</td>\n",
       "      <td>91.0</td>\n",
       "      <td>2.1675</td>\n",
       "      <td>1.0</td>\n",
       "      <td>273.0</td>\n",
       "      <td>21.0</td>\n",
       "      <td>396.90</td>\n",
       "      <td>5.64</td>\n",
       "      <td>23.9</td>\n",
       "    </tr>\n",
       "    <tr>\n",
       "      <th>504</th>\n",
       "      <td>0.10959</td>\n",
       "      <td>0.0</td>\n",
       "      <td>11.93</td>\n",
       "      <td>0.0</td>\n",
       "      <td>0.573</td>\n",
       "      <td>6.794</td>\n",
       "      <td>89.3</td>\n",
       "      <td>2.3889</td>\n",
       "      <td>1.0</td>\n",
       "      <td>273.0</td>\n",
       "      <td>21.0</td>\n",
       "      <td>393.45</td>\n",
       "      <td>6.48</td>\n",
       "      <td>22.0</td>\n",
       "    </tr>\n",
       "    <tr>\n",
       "      <th>505</th>\n",
       "      <td>0.04741</td>\n",
       "      <td>0.0</td>\n",
       "      <td>11.93</td>\n",
       "      <td>0.0</td>\n",
       "      <td>0.573</td>\n",
       "      <td>6.030</td>\n",
       "      <td>80.8</td>\n",
       "      <td>2.5050</td>\n",
       "      <td>1.0</td>\n",
       "      <td>273.0</td>\n",
       "      <td>21.0</td>\n",
       "      <td>396.90</td>\n",
       "      <td>7.88</td>\n",
       "      <td>11.9</td>\n",
       "    </tr>\n",
       "  </tbody>\n",
       "</table>\n",
       "<p>506 rows × 14 columns</p>\n",
       "</div>"
      ],
      "text/plain": [
       "        CRIM    ZN  INDUS  CHAS    NOX     RM   AGE     DIS  RAD    TAX  \\\n",
       "0    0.00632  18.0   2.31   0.0  0.538  6.575  65.2  4.0900  1.0  296.0   \n",
       "1    0.02731   0.0   7.07   0.0  0.469  6.421  78.9  4.9671  2.0  242.0   \n",
       "2    0.02729   0.0   7.07   0.0  0.469  7.185  61.1  4.9671  2.0  242.0   \n",
       "3    0.03237   0.0   2.18   0.0  0.458  6.998  45.8  6.0622  3.0  222.0   \n",
       "4    0.06905   0.0   2.18   0.0  0.458  7.147  54.2  6.0622  3.0  222.0   \n",
       "..       ...   ...    ...   ...    ...    ...   ...     ...  ...    ...   \n",
       "501  0.06263   0.0  11.93   0.0  0.573  6.593  69.1  2.4786  1.0  273.0   \n",
       "502  0.04527   0.0  11.93   0.0  0.573  6.120  76.7  2.2875  1.0  273.0   \n",
       "503  0.06076   0.0  11.93   0.0  0.573  6.976  91.0  2.1675  1.0  273.0   \n",
       "504  0.10959   0.0  11.93   0.0  0.573  6.794  89.3  2.3889  1.0  273.0   \n",
       "505  0.04741   0.0  11.93   0.0  0.573  6.030  80.8  2.5050  1.0  273.0   \n",
       "\n",
       "     PTRATIO       B  LSTAT  PRICE  \n",
       "0       15.3  396.90   4.98   24.0  \n",
       "1       17.8  396.90   9.14   21.6  \n",
       "2       17.8  392.83   4.03   34.7  \n",
       "3       18.7  394.63   2.94   33.4  \n",
       "4       18.7  396.90   5.33   36.2  \n",
       "..       ...     ...    ...    ...  \n",
       "501     21.0  391.99   9.67   22.4  \n",
       "502     21.0  396.90   9.08   20.6  \n",
       "503     21.0  396.90   5.64   23.9  \n",
       "504     21.0  393.45   6.48   22.0  \n",
       "505     21.0  396.90   7.88   11.9  \n",
       "\n",
       "[506 rows x 14 columns]"
      ]
     },
     "execution_count": 225,
     "metadata": {},
     "output_type": "execute_result"
    }
   ],
   "source": [
    "df=pd.DataFrame(boston.data,columns=boston.feature_names)\n",
    "df['PRICE']=boston.target\n",
    "df"
   ]
  },
  {
   "cell_type": "code",
   "execution_count": 145,
   "id": "2af8e9e0",
   "metadata": {},
   "outputs": [
    {
     "data": {
      "text/plain": [
       "(506, 14)"
      ]
     },
     "execution_count": 145,
     "metadata": {},
     "output_type": "execute_result"
    }
   ],
   "source": [
    "df.shape"
   ]
  },
  {
   "cell_type": "code",
   "execution_count": 31,
   "id": "ec2d9baa",
   "metadata": {
    "scrolled": true
   },
   "outputs": [
    {
     "name": "stdout",
     "output_type": "stream",
     "text": [
      "False\n"
     ]
    }
   ],
   "source": [
    "print (df.dtypes['CRIM'] == 'int')"
   ]
  },
  {
   "cell_type": "code",
   "execution_count": 16,
   "id": "50e5e580",
   "metadata": {},
   "outputs": [
    {
     "data": {
      "text/plain": [
       "pandas.core.series.Series"
      ]
     },
     "execution_count": 16,
     "metadata": {},
     "output_type": "execute_result"
    }
   ],
   "source": [
    "type(x)"
   ]
  },
  {
   "cell_type": "markdown",
   "id": "a6349f77",
   "metadata": {},
   "source": [
    "## 3. Exploratory Data Analysis"
   ]
  },
  {
   "cell_type": "code",
   "execution_count": 71,
   "id": "0bdb14b9",
   "metadata": {
    "scrolled": true
   },
   "outputs": [
    {
     "data": {
      "text/html": [
       "<div>\n",
       "<style scoped>\n",
       "    .dataframe tbody tr th:only-of-type {\n",
       "        vertical-align: middle;\n",
       "    }\n",
       "\n",
       "    .dataframe tbody tr th {\n",
       "        vertical-align: top;\n",
       "    }\n",
       "\n",
       "    .dataframe thead th {\n",
       "        text-align: right;\n",
       "    }\n",
       "</style>\n",
       "<table border=\"1\" class=\"dataframe\">\n",
       "  <thead>\n",
       "    <tr style=\"text-align: right;\">\n",
       "      <th></th>\n",
       "      <th>CRIM</th>\n",
       "      <th>ZN</th>\n",
       "      <th>INDUS</th>\n",
       "      <th>CHAS</th>\n",
       "      <th>NOX</th>\n",
       "      <th>RM</th>\n",
       "      <th>AGE</th>\n",
       "      <th>DIS</th>\n",
       "      <th>RAD</th>\n",
       "      <th>TAX</th>\n",
       "      <th>PTRATIO</th>\n",
       "      <th>B</th>\n",
       "      <th>LSTAT</th>\n",
       "      <th>PRICE</th>\n",
       "    </tr>\n",
       "  </thead>\n",
       "  <tbody>\n",
       "    <tr>\n",
       "      <th>0</th>\n",
       "      <td>0.00632</td>\n",
       "      <td>18.0</td>\n",
       "      <td>2.31</td>\n",
       "      <td>0.0</td>\n",
       "      <td>0.538</td>\n",
       "      <td>6.575</td>\n",
       "      <td>65.2</td>\n",
       "      <td>4.0900</td>\n",
       "      <td>1.0</td>\n",
       "      <td>296.0</td>\n",
       "      <td>15.3</td>\n",
       "      <td>396.90</td>\n",
       "      <td>4.98</td>\n",
       "      <td>24.0</td>\n",
       "    </tr>\n",
       "    <tr>\n",
       "      <th>1</th>\n",
       "      <td>0.02731</td>\n",
       "      <td>0.0</td>\n",
       "      <td>7.07</td>\n",
       "      <td>0.0</td>\n",
       "      <td>0.469</td>\n",
       "      <td>6.421</td>\n",
       "      <td>78.9</td>\n",
       "      <td>4.9671</td>\n",
       "      <td>2.0</td>\n",
       "      <td>242.0</td>\n",
       "      <td>17.8</td>\n",
       "      <td>396.90</td>\n",
       "      <td>9.14</td>\n",
       "      <td>21.6</td>\n",
       "    </tr>\n",
       "    <tr>\n",
       "      <th>2</th>\n",
       "      <td>0.02729</td>\n",
       "      <td>0.0</td>\n",
       "      <td>7.07</td>\n",
       "      <td>0.0</td>\n",
       "      <td>0.469</td>\n",
       "      <td>7.185</td>\n",
       "      <td>61.1</td>\n",
       "      <td>4.9671</td>\n",
       "      <td>2.0</td>\n",
       "      <td>242.0</td>\n",
       "      <td>17.8</td>\n",
       "      <td>392.83</td>\n",
       "      <td>4.03</td>\n",
       "      <td>34.7</td>\n",
       "    </tr>\n",
       "    <tr>\n",
       "      <th>3</th>\n",
       "      <td>0.03237</td>\n",
       "      <td>0.0</td>\n",
       "      <td>2.18</td>\n",
       "      <td>0.0</td>\n",
       "      <td>0.458</td>\n",
       "      <td>6.998</td>\n",
       "      <td>45.8</td>\n",
       "      <td>6.0622</td>\n",
       "      <td>3.0</td>\n",
       "      <td>222.0</td>\n",
       "      <td>18.7</td>\n",
       "      <td>394.63</td>\n",
       "      <td>2.94</td>\n",
       "      <td>33.4</td>\n",
       "    </tr>\n",
       "    <tr>\n",
       "      <th>4</th>\n",
       "      <td>0.06905</td>\n",
       "      <td>0.0</td>\n",
       "      <td>2.18</td>\n",
       "      <td>0.0</td>\n",
       "      <td>0.458</td>\n",
       "      <td>7.147</td>\n",
       "      <td>54.2</td>\n",
       "      <td>6.0622</td>\n",
       "      <td>3.0</td>\n",
       "      <td>222.0</td>\n",
       "      <td>18.7</td>\n",
       "      <td>396.90</td>\n",
       "      <td>5.33</td>\n",
       "      <td>36.2</td>\n",
       "    </tr>\n",
       "  </tbody>\n",
       "</table>\n",
       "</div>"
      ],
      "text/plain": [
       "      CRIM    ZN  INDUS  CHAS    NOX     RM   AGE     DIS  RAD    TAX  \\\n",
       "0  0.00632  18.0   2.31   0.0  0.538  6.575  65.2  4.0900  1.0  296.0   \n",
       "1  0.02731   0.0   7.07   0.0  0.469  6.421  78.9  4.9671  2.0  242.0   \n",
       "2  0.02729   0.0   7.07   0.0  0.469  7.185  61.1  4.9671  2.0  242.0   \n",
       "3  0.03237   0.0   2.18   0.0  0.458  6.998  45.8  6.0622  3.0  222.0   \n",
       "4  0.06905   0.0   2.18   0.0  0.458  7.147  54.2  6.0622  3.0  222.0   \n",
       "\n",
       "   PTRATIO       B  LSTAT  PRICE  \n",
       "0     15.3  396.90   4.98   24.0  \n",
       "1     17.8  396.90   9.14   21.6  \n",
       "2     17.8  392.83   4.03   34.7  \n",
       "3     18.7  394.63   2.94   33.4  \n",
       "4     18.7  396.90   5.33   36.2  "
      ]
     },
     "execution_count": 71,
     "metadata": {},
     "output_type": "execute_result"
    }
   ],
   "source": [
    "df.head()"
   ]
  },
  {
   "cell_type": "code",
   "execution_count": 30,
   "id": "2184016c",
   "metadata": {
    "scrolled": false
   },
   "outputs": [
    {
     "data": {
      "text/html": [
       "<div>\n",
       "<style scoped>\n",
       "    .dataframe tbody tr th:only-of-type {\n",
       "        vertical-align: middle;\n",
       "    }\n",
       "\n",
       "    .dataframe tbody tr th {\n",
       "        vertical-align: top;\n",
       "    }\n",
       "\n",
       "    .dataframe thead th {\n",
       "        text-align: right;\n",
       "    }\n",
       "</style>\n",
       "<table border=\"1\" class=\"dataframe\">\n",
       "  <thead>\n",
       "    <tr style=\"text-align: right;\">\n",
       "      <th></th>\n",
       "      <th>CRIM</th>\n",
       "      <th>ZN</th>\n",
       "      <th>INDUS</th>\n",
       "      <th>CHAS</th>\n",
       "      <th>NOX</th>\n",
       "      <th>RM</th>\n",
       "      <th>AGE</th>\n",
       "      <th>DIS</th>\n",
       "      <th>RAD</th>\n",
       "      <th>TAX</th>\n",
       "      <th>PTRATIO</th>\n",
       "      <th>B</th>\n",
       "      <th>LSTAT</th>\n",
       "      <th>PRICE</th>\n",
       "    </tr>\n",
       "  </thead>\n",
       "  <tbody>\n",
       "    <tr>\n",
       "      <th>501</th>\n",
       "      <td>0.06263</td>\n",
       "      <td>0.0</td>\n",
       "      <td>11.93</td>\n",
       "      <td>0.0</td>\n",
       "      <td>0.573</td>\n",
       "      <td>6.593</td>\n",
       "      <td>69.1</td>\n",
       "      <td>2.4786</td>\n",
       "      <td>1.0</td>\n",
       "      <td>273.0</td>\n",
       "      <td>21.0</td>\n",
       "      <td>391.99</td>\n",
       "      <td>9.67</td>\n",
       "      <td>22.4</td>\n",
       "    </tr>\n",
       "    <tr>\n",
       "      <th>502</th>\n",
       "      <td>0.04527</td>\n",
       "      <td>0.0</td>\n",
       "      <td>11.93</td>\n",
       "      <td>0.0</td>\n",
       "      <td>0.573</td>\n",
       "      <td>6.120</td>\n",
       "      <td>76.7</td>\n",
       "      <td>2.2875</td>\n",
       "      <td>1.0</td>\n",
       "      <td>273.0</td>\n",
       "      <td>21.0</td>\n",
       "      <td>396.90</td>\n",
       "      <td>9.08</td>\n",
       "      <td>20.6</td>\n",
       "    </tr>\n",
       "    <tr>\n",
       "      <th>503</th>\n",
       "      <td>0.06076</td>\n",
       "      <td>0.0</td>\n",
       "      <td>11.93</td>\n",
       "      <td>0.0</td>\n",
       "      <td>0.573</td>\n",
       "      <td>6.976</td>\n",
       "      <td>91.0</td>\n",
       "      <td>2.1675</td>\n",
       "      <td>1.0</td>\n",
       "      <td>273.0</td>\n",
       "      <td>21.0</td>\n",
       "      <td>396.90</td>\n",
       "      <td>5.64</td>\n",
       "      <td>23.9</td>\n",
       "    </tr>\n",
       "    <tr>\n",
       "      <th>504</th>\n",
       "      <td>0.10959</td>\n",
       "      <td>0.0</td>\n",
       "      <td>11.93</td>\n",
       "      <td>0.0</td>\n",
       "      <td>0.573</td>\n",
       "      <td>6.794</td>\n",
       "      <td>89.3</td>\n",
       "      <td>2.3889</td>\n",
       "      <td>1.0</td>\n",
       "      <td>273.0</td>\n",
       "      <td>21.0</td>\n",
       "      <td>393.45</td>\n",
       "      <td>6.48</td>\n",
       "      <td>22.0</td>\n",
       "    </tr>\n",
       "    <tr>\n",
       "      <th>505</th>\n",
       "      <td>0.04741</td>\n",
       "      <td>0.0</td>\n",
       "      <td>11.93</td>\n",
       "      <td>0.0</td>\n",
       "      <td>0.573</td>\n",
       "      <td>6.030</td>\n",
       "      <td>80.8</td>\n",
       "      <td>2.5050</td>\n",
       "      <td>1.0</td>\n",
       "      <td>273.0</td>\n",
       "      <td>21.0</td>\n",
       "      <td>396.90</td>\n",
       "      <td>7.88</td>\n",
       "      <td>11.9</td>\n",
       "    </tr>\n",
       "  </tbody>\n",
       "</table>\n",
       "</div>"
      ],
      "text/plain": [
       "        CRIM   ZN  INDUS  CHAS    NOX     RM   AGE     DIS  RAD    TAX  PTRATIO       B  LSTAT  PRICE\n",
       "501  0.06263  0.0  11.93   0.0  0.573  6.593  69.1  2.4786  1.0  273.0     21.0  391.99   9.67   22.4\n",
       "502  0.04527  0.0  11.93   0.0  0.573  6.120  76.7  2.2875  1.0  273.0     21.0  396.90   9.08   20.6\n",
       "503  0.06076  0.0  11.93   0.0  0.573  6.976  91.0  2.1675  1.0  273.0     21.0  396.90   5.64   23.9\n",
       "504  0.10959  0.0  11.93   0.0  0.573  6.794  89.3  2.3889  1.0  273.0     21.0  393.45   6.48   22.0\n",
       "505  0.04741  0.0  11.93   0.0  0.573  6.030  80.8  2.5050  1.0  273.0     21.0  396.90   7.88   11.9"
      ]
     },
     "execution_count": 30,
     "metadata": {},
     "output_type": "execute_result"
    }
   ],
   "source": [
    "df.tail()"
   ]
  },
  {
   "cell_type": "code",
   "execution_count": 146,
   "id": "21675c59",
   "metadata": {},
   "outputs": [
    {
     "data": {
      "text/plain": [
       "0      0.00632\n",
       "1      0.02731\n",
       "2      0.02729\n",
       "3      0.03237\n",
       "4      0.06905\n",
       "        ...   \n",
       "501    0.06263\n",
       "502    0.04527\n",
       "503    0.06076\n",
       "504    0.10959\n",
       "505    0.04741\n",
       "Name: CRIM, Length: 506, dtype: float64"
      ]
     },
     "execution_count": 146,
     "metadata": {},
     "output_type": "execute_result"
    }
   ],
   "source": [
    "df['CRIM']"
   ]
  },
  {
   "cell_type": "code",
   "execution_count": 4,
   "id": "3efdc361",
   "metadata": {},
   "outputs": [
    {
     "data": {
      "text/plain": [
       "CRIM       0\n",
       "ZN         0\n",
       "INDUS      0\n",
       "CHAS       0\n",
       "NOX        0\n",
       "RM         0\n",
       "AGE        0\n",
       "DIS        0\n",
       "RAD        0\n",
       "TAX        0\n",
       "PTRATIO    0\n",
       "B          0\n",
       "LSTAT      0\n",
       "PRICE      0\n",
       "dtype: int64"
      ]
     },
     "execution_count": 4,
     "metadata": {},
     "output_type": "execute_result"
    }
   ],
   "source": [
    "df.isnull().sum()"
   ]
  },
  {
   "cell_type": "code",
   "execution_count": 5,
   "id": "6526771c",
   "metadata": {},
   "outputs": [
    {
     "data": {
      "text/plain": [
       "CRIM       0.0\n",
       "ZN         0.0\n",
       "INDUS      0.0\n",
       "CHAS       0.0\n",
       "NOX        0.0\n",
       "RM         0.0\n",
       "AGE        0.0\n",
       "DIS        0.0\n",
       "RAD        0.0\n",
       "TAX        0.0\n",
       "PTRATIO    0.0\n",
       "B          0.0\n",
       "LSTAT      0.0\n",
       "PRICE      0.0\n",
       "dtype: float64"
      ]
     },
     "execution_count": 5,
     "metadata": {},
     "output_type": "execute_result"
    }
   ],
   "source": [
    "df.isnull().mean()*100"
   ]
  },
  {
   "cell_type": "code",
   "execution_count": null,
   "id": "2d50fee2",
   "metadata": {},
   "outputs": [],
   "source": [
    "#No null value observed"
   ]
  },
  {
   "cell_type": "code",
   "execution_count": 28,
   "id": "66752ff4",
   "metadata": {
    "scrolled": true
   },
   "outputs": [
    {
     "name": "stdout",
     "output_type": "stream",
     "text": [
      "<class 'pandas.core.frame.DataFrame'>\n",
      "RangeIndex: 506 entries, 0 to 505\n",
      "Data columns (total 14 columns):\n",
      " #   Column   Non-Null Count  Dtype  \n",
      "---  ------   --------------  -----  \n",
      " 0   CRIM     506 non-null    float64\n",
      " 1   ZN       506 non-null    float64\n",
      " 2   INDUS    506 non-null    float64\n",
      " 3   CHAS     506 non-null    float64\n",
      " 4   NOX      506 non-null    float64\n",
      " 5   RM       506 non-null    float64\n",
      " 6   AGE      506 non-null    float64\n",
      " 7   DIS      506 non-null    float64\n",
      " 8   RAD      506 non-null    float64\n",
      " 9   TAX      506 non-null    float64\n",
      " 10  PTRATIO  506 non-null    float64\n",
      " 11  B        506 non-null    float64\n",
      " 12  LSTAT    506 non-null    float64\n",
      " 13  PRICE    506 non-null    float64\n",
      "dtypes: float64(14)\n",
      "memory usage: 55.5 KB\n"
     ]
    }
   ],
   "source": [
    "df.info()"
   ]
  },
  {
   "cell_type": "code",
   "execution_count": 5,
   "id": "646bc1f9",
   "metadata": {
    "scrolled": true
   },
   "outputs": [
    {
     "data": {
      "text/html": [
       "<div>\n",
       "<style scoped>\n",
       "    .dataframe tbody tr th:only-of-type {\n",
       "        vertical-align: middle;\n",
       "    }\n",
       "\n",
       "    .dataframe tbody tr th {\n",
       "        vertical-align: top;\n",
       "    }\n",
       "\n",
       "    .dataframe thead th {\n",
       "        text-align: right;\n",
       "    }\n",
       "</style>\n",
       "<table border=\"1\" class=\"dataframe\">\n",
       "  <thead>\n",
       "    <tr style=\"text-align: right;\">\n",
       "      <th></th>\n",
       "      <th>CRIM</th>\n",
       "      <th>ZN</th>\n",
       "      <th>INDUS</th>\n",
       "      <th>CHAS</th>\n",
       "      <th>NOX</th>\n",
       "      <th>RM</th>\n",
       "      <th>AGE</th>\n",
       "      <th>DIS</th>\n",
       "      <th>RAD</th>\n",
       "      <th>TAX</th>\n",
       "      <th>PTRATIO</th>\n",
       "      <th>B</th>\n",
       "      <th>LSTAT</th>\n",
       "      <th>PRICE</th>\n",
       "    </tr>\n",
       "  </thead>\n",
       "  <tbody>\n",
       "    <tr>\n",
       "      <th>count</th>\n",
       "      <td>506.000000</td>\n",
       "      <td>506.000000</td>\n",
       "      <td>506.000000</td>\n",
       "      <td>506.000000</td>\n",
       "      <td>506.000000</td>\n",
       "      <td>506.000000</td>\n",
       "      <td>506.000000</td>\n",
       "      <td>506.000000</td>\n",
       "      <td>506.000000</td>\n",
       "      <td>506.000000</td>\n",
       "      <td>506.000000</td>\n",
       "      <td>506.000000</td>\n",
       "      <td>506.000000</td>\n",
       "      <td>506.000000</td>\n",
       "    </tr>\n",
       "    <tr>\n",
       "      <th>mean</th>\n",
       "      <td>3.613524</td>\n",
       "      <td>11.363636</td>\n",
       "      <td>11.136779</td>\n",
       "      <td>0.069170</td>\n",
       "      <td>0.554695</td>\n",
       "      <td>6.284634</td>\n",
       "      <td>68.574901</td>\n",
       "      <td>3.795043</td>\n",
       "      <td>9.549407</td>\n",
       "      <td>408.237154</td>\n",
       "      <td>18.455534</td>\n",
       "      <td>356.674032</td>\n",
       "      <td>12.653063</td>\n",
       "      <td>22.532806</td>\n",
       "    </tr>\n",
       "    <tr>\n",
       "      <th>std</th>\n",
       "      <td>8.601545</td>\n",
       "      <td>23.322453</td>\n",
       "      <td>6.860353</td>\n",
       "      <td>0.253994</td>\n",
       "      <td>0.115878</td>\n",
       "      <td>0.702617</td>\n",
       "      <td>28.148861</td>\n",
       "      <td>2.105710</td>\n",
       "      <td>8.707259</td>\n",
       "      <td>168.537116</td>\n",
       "      <td>2.164946</td>\n",
       "      <td>91.294864</td>\n",
       "      <td>7.141062</td>\n",
       "      <td>9.197104</td>\n",
       "    </tr>\n",
       "    <tr>\n",
       "      <th>min</th>\n",
       "      <td>0.006320</td>\n",
       "      <td>0.000000</td>\n",
       "      <td>0.460000</td>\n",
       "      <td>0.000000</td>\n",
       "      <td>0.385000</td>\n",
       "      <td>3.561000</td>\n",
       "      <td>2.900000</td>\n",
       "      <td>1.129600</td>\n",
       "      <td>1.000000</td>\n",
       "      <td>187.000000</td>\n",
       "      <td>12.600000</td>\n",
       "      <td>0.320000</td>\n",
       "      <td>1.730000</td>\n",
       "      <td>5.000000</td>\n",
       "    </tr>\n",
       "    <tr>\n",
       "      <th>25%</th>\n",
       "      <td>0.082045</td>\n",
       "      <td>0.000000</td>\n",
       "      <td>5.190000</td>\n",
       "      <td>0.000000</td>\n",
       "      <td>0.449000</td>\n",
       "      <td>5.885500</td>\n",
       "      <td>45.025000</td>\n",
       "      <td>2.100175</td>\n",
       "      <td>4.000000</td>\n",
       "      <td>279.000000</td>\n",
       "      <td>17.400000</td>\n",
       "      <td>375.377500</td>\n",
       "      <td>6.950000</td>\n",
       "      <td>17.025000</td>\n",
       "    </tr>\n",
       "    <tr>\n",
       "      <th>50%</th>\n",
       "      <td>0.256510</td>\n",
       "      <td>0.000000</td>\n",
       "      <td>9.690000</td>\n",
       "      <td>0.000000</td>\n",
       "      <td>0.538000</td>\n",
       "      <td>6.208500</td>\n",
       "      <td>77.500000</td>\n",
       "      <td>3.207450</td>\n",
       "      <td>5.000000</td>\n",
       "      <td>330.000000</td>\n",
       "      <td>19.050000</td>\n",
       "      <td>391.440000</td>\n",
       "      <td>11.360000</td>\n",
       "      <td>21.200000</td>\n",
       "    </tr>\n",
       "    <tr>\n",
       "      <th>75%</th>\n",
       "      <td>3.677083</td>\n",
       "      <td>12.500000</td>\n",
       "      <td>18.100000</td>\n",
       "      <td>0.000000</td>\n",
       "      <td>0.624000</td>\n",
       "      <td>6.623500</td>\n",
       "      <td>94.075000</td>\n",
       "      <td>5.188425</td>\n",
       "      <td>24.000000</td>\n",
       "      <td>666.000000</td>\n",
       "      <td>20.200000</td>\n",
       "      <td>396.225000</td>\n",
       "      <td>16.955000</td>\n",
       "      <td>25.000000</td>\n",
       "    </tr>\n",
       "    <tr>\n",
       "      <th>max</th>\n",
       "      <td>88.976200</td>\n",
       "      <td>100.000000</td>\n",
       "      <td>27.740000</td>\n",
       "      <td>1.000000</td>\n",
       "      <td>0.871000</td>\n",
       "      <td>8.780000</td>\n",
       "      <td>100.000000</td>\n",
       "      <td>12.126500</td>\n",
       "      <td>24.000000</td>\n",
       "      <td>711.000000</td>\n",
       "      <td>22.000000</td>\n",
       "      <td>396.900000</td>\n",
       "      <td>37.970000</td>\n",
       "      <td>50.000000</td>\n",
       "    </tr>\n",
       "  </tbody>\n",
       "</table>\n",
       "</div>"
      ],
      "text/plain": [
       "             CRIM          ZN       INDUS        CHAS         NOX          RM  \\\n",
       "count  506.000000  506.000000  506.000000  506.000000  506.000000  506.000000   \n",
       "mean     3.613524   11.363636   11.136779    0.069170    0.554695    6.284634   \n",
       "std      8.601545   23.322453    6.860353    0.253994    0.115878    0.702617   \n",
       "min      0.006320    0.000000    0.460000    0.000000    0.385000    3.561000   \n",
       "25%      0.082045    0.000000    5.190000    0.000000    0.449000    5.885500   \n",
       "50%      0.256510    0.000000    9.690000    0.000000    0.538000    6.208500   \n",
       "75%      3.677083   12.500000   18.100000    0.000000    0.624000    6.623500   \n",
       "max     88.976200  100.000000   27.740000    1.000000    0.871000    8.780000   \n",
       "\n",
       "              AGE         DIS         RAD         TAX     PTRATIO           B  \\\n",
       "count  506.000000  506.000000  506.000000  506.000000  506.000000  506.000000   \n",
       "mean    68.574901    3.795043    9.549407  408.237154   18.455534  356.674032   \n",
       "std     28.148861    2.105710    8.707259  168.537116    2.164946   91.294864   \n",
       "min      2.900000    1.129600    1.000000  187.000000   12.600000    0.320000   \n",
       "25%     45.025000    2.100175    4.000000  279.000000   17.400000  375.377500   \n",
       "50%     77.500000    3.207450    5.000000  330.000000   19.050000  391.440000   \n",
       "75%     94.075000    5.188425   24.000000  666.000000   20.200000  396.225000   \n",
       "max    100.000000   12.126500   24.000000  711.000000   22.000000  396.900000   \n",
       "\n",
       "            LSTAT       PRICE  \n",
       "count  506.000000  506.000000  \n",
       "mean    12.653063   22.532806  \n",
       "std      7.141062    9.197104  \n",
       "min      1.730000    5.000000  \n",
       "25%      6.950000   17.025000  \n",
       "50%     11.360000   21.200000  \n",
       "75%     16.955000   25.000000  \n",
       "max     37.970000   50.000000  "
      ]
     },
     "execution_count": 5,
     "metadata": {},
     "output_type": "execute_result"
    }
   ],
   "source": [
    "df.describe()"
   ]
  },
  {
   "cell_type": "code",
   "execution_count": 8,
   "id": "427d5c0a",
   "metadata": {
    "scrolled": true
   },
   "outputs": [
    {
     "data": {
      "text/plain": [
       "CRIM        85.362676\n",
       "ZN          88.636364\n",
       "INDUS       16.603221\n",
       "CHAS         0.930830\n",
       "NOX          0.316305\n",
       "RM           2.495366\n",
       "AGE         31.425099\n",
       "DIS          8.331457\n",
       "RAD         14.450593\n",
       "TAX        302.762846\n",
       "PTRATIO      3.544466\n",
       "B           40.225968\n",
       "LSTAT       25.316937\n",
       "PRICE       27.467194\n",
       "dtype: float64"
      ]
     },
     "execution_count": 8,
     "metadata": {},
     "output_type": "execute_result"
    }
   ],
   "source": [
    "#Checking for Outliers\n",
    "Desc=df.describe().T\n",
    "Diff= Desc['max']-Desc['mean']\n",
    "Diff"
   ]
  },
  {
   "cell_type": "markdown",
   "id": "92752554",
   "metadata": {},
   "source": [
    "### Unerstanding and conclusion from EDA "
   ]
  },
  {
   "cell_type": "code",
   "execution_count": null,
   "id": "72d5ca0c",
   "metadata": {},
   "outputs": [],
   "source": [
    "1. 506 columns and 14 features in dataset including target feature\n",
    "2. No object dtype in dataset\n",
    "3. No null values in dataset\n",
    "4. Outliers seem to be there in data(need more analysis and treatment)"
   ]
  },
  {
   "cell_type": "markdown",
   "id": "55473e9f",
   "metadata": {},
   "source": [
    "# 4. Feature Engineering "
   ]
  },
  {
   "cell_type": "code",
   "execution_count": null,
   "id": "a8f2f8c2",
   "metadata": {},
   "outputs": [],
   "source": [
    "1. No FE on dtypes conversion as concluded during EDA\n",
    "2. No FE on null values as concluded during EDA\n",
    "3. FE required on outliers"
   ]
  },
  {
   "cell_type": "code",
   "execution_count": 226,
   "id": "4bff0c88",
   "metadata": {},
   "outputs": [
    {
     "data": {
      "text/plain": [
       "<AxesSubplot:>"
      ]
     },
     "execution_count": 226,
     "metadata": {},
     "output_type": "execute_result"
    },
    {
     "data": {
      "image/png": "[encoded data removed]",
      "text/plain": [
       "<Figure size 2000x1000 with 1 Axes>"
      ]
     },
     "metadata": {},
     "output_type": "display_data"
    }
   ],
   "source": [
    "plt.figure(figsize=(20,10))\n",
    "df[['CRIM','ZN','CHAS','INDUS']].boxplot()"
   ]
  },
  {
   "cell_type": "code",
   "execution_count": 148,
   "id": "137c8259",
   "metadata": {},
   "outputs": [
    {
     "data": {
      "text/plain": [
       "<AxesSubplot:>"
      ]
     },
     "execution_count": 148,
     "metadata": {},
     "output_type": "execute_result"
    },
    {
     "data": {
      "image/png": "[encoded data removed]",
      "text/plain": [
       "<Figure size 2000x1000 with 1 Axes>"
      ]
     },
     "metadata": {},
     "output_type": "display_data"
    }
   ],
   "source": [
    "plt.figure(figsize=(20,10))\n",
    "df[['NOX','RM','AGE','DIS']].boxplot()"
   ]
  },
  {
   "cell_type": "code",
   "execution_count": 149,
   "id": "48530ab8",
   "metadata": {},
   "outputs": [
    {
     "data": {
      "text/plain": [
       "<AxesSubplot:>"
      ]
     },
     "execution_count": 149,
     "metadata": {},
     "output_type": "execute_result"
    },
    {
     "data": {
      "image/png": "[encoded data removed]",
      "text/plain": [
       "<Figure size 2000x1000 with 1 Axes>"
      ]
     },
     "metadata": {},
     "output_type": "display_data"
    }
   ],
   "source": [
    "plt.figure(figsize=(20,10))\n",
    "df[['RAD','TAX','PTRATIO','B','LSTAT']].boxplot()"
   ]
  },
  {
   "cell_type": "code",
   "execution_count": null,
   "id": "a2089504",
   "metadata": {},
   "outputs": [],
   "source": [
    "Outliers present in 8 features-\n",
    "CRIM , ZN , CHAS\n",
    "RM, DIS\n",
    "PTRATIO, B , LSTAT"
   ]
  },
  {
   "cell_type": "markdown",
   "id": "23088a64",
   "metadata": {},
   "source": [
    "#### 1. CRIM"
   ]
  },
  {
   "cell_type": "code",
   "execution_count": 227,
   "id": "8bc04b20",
   "metadata": {},
   "outputs": [
    {
     "data": {
      "text/plain": [
       "<AxesSubplot:xlabel='CRIM'>"
      ]
     },
     "execution_count": 227,
     "metadata": {},
     "output_type": "execute_result"
    },
    {
     "data": {
      "image/png": "[encoded data removed]",
      "text/plain": [
       "<Figure size 640x480 with 1 Axes>"
      ]
     },
     "metadata": {},
     "output_type": "display_data"
    }
   ],
   "source": [
    "sns.boxplot(x=df['CRIM'])"
   ]
  },
  {
   "cell_type": "code",
   "execution_count": 228,
   "id": "3db4de52",
   "metadata": {},
   "outputs": [
    {
     "data": {
      "text/plain": [
       "<AxesSubplot:xlabel='CRIM', ylabel='Density'>"
      ]
     },
     "execution_count": 228,
     "metadata": {},
     "output_type": "execute_result"
    },
    {
     "data": {
      "image/png": "[encoded data removed]",
      "text/plain": [
       "<Figure size 640x480 with 1 Axes>"
      ]
     },
     "metadata": {},
     "output_type": "display_data"
    }
   ],
   "source": [
    "sns.kdeplot(df['CRIM'])\n",
    "#Positively skewed data - IQR or log transfomation can be applied here"
   ]
  },
  {
   "cell_type": "code",
   "execution_count": 229,
   "id": "15701de9",
   "metadata": {},
   "outputs": [
    {
     "name": "stdout",
     "output_type": "stream",
     "text": [
      "upper tail=  9.06963875 & lower_tail=  -5.31051125\n"
     ]
    }
   ],
   "source": [
    "#IQR method\n",
    "q1=df['CRIM'].quantile(0.25)\n",
    "q2=df['CRIM'].quantile(0.5)\n",
    "q3=df['CRIM'].quantile(0.75)\n",
    "IQR=q3-q1\n",
    "\n",
    "upper_tail=q3+(1.5*IQR)\n",
    "lower_tail=q1-(1.5*IQR)\n",
    "print('upper tail= ',upper_tail, '&','lower_tail= ',lower_tail)"
   ]
  },
  {
   "cell_type": "code",
   "execution_count": 230,
   "id": "4793435b",
   "metadata": {},
   "outputs": [
    {
     "data": {
      "text/plain": [
       "367    13.5222\n",
       "371     9.2323\n",
       "373    11.1081\n",
       "374    18.4982\n",
       "375    19.6091\n",
       "        ...   \n",
       "468    15.5757\n",
       "469    13.0751\n",
       "477    15.0234\n",
       "478    10.2330\n",
       "479    14.3337\n",
       "Name: CRIM, Length: 66, dtype: float64"
      ]
     },
     "execution_count": 230,
     "metadata": {},
     "output_type": "execute_result"
    }
   ],
   "source": [
    "df.loc[(df['CRIM']>upper_tail),'CRIM']\n",
    "#66 values are above upper_tail"
   ]
  },
  {
   "cell_type": "code",
   "execution_count": 231,
   "id": "4c4d4afa",
   "metadata": {},
   "outputs": [
    {
     "data": {
      "text/plain": [
       "Series([], Name: CRIM, dtype: float64)"
      ]
     },
     "execution_count": 231,
     "metadata": {},
     "output_type": "execute_result"
    }
   ],
   "source": [
    "df.loc[(df['CRIM']<lower_tail),'CRIM']\n",
    "#no outliers below lower_tail"
   ]
  },
  {
   "cell_type": "code",
   "execution_count": 233,
   "id": "5a2e5044",
   "metadata": {},
   "outputs": [
    {
     "data": {
      "text/plain": [
       "Series([], Name: CRIM, dtype: float64)"
      ]
     },
     "execution_count": 233,
     "metadata": {},
     "output_type": "execute_result"
    }
   ],
   "source": [
    "df.loc[(df['CRIM']>upper_tail),'CRIM']=upper_tail\n",
    "#outliers are imputed with upper tail\n",
    "df.loc[(df['CRIM']>upper_tail),'CRIM']\n",
    "#Outlers eliminated"
   ]
  },
  {
   "cell_type": "code",
   "execution_count": 234,
   "id": "1e0f385d",
   "metadata": {},
   "outputs": [
    {
     "data": {
      "text/plain": [
       "<AxesSubplot:xlabel='CRIM'>"
      ]
     },
     "execution_count": 234,
     "metadata": {},
     "output_type": "execute_result"
    },
    {
     "data": {
      "image/png": "[encoded data removed]",
      "text/plain": [
       "<Figure size 640x480 with 1 Axes>"
      ]
     },
     "metadata": {},
     "output_type": "display_data"
    }
   ],
   "source": [
    "sns.boxplot(x=df['CRIM'])"
   ]
  },
  {
   "cell_type": "markdown",
   "id": "213b4260",
   "metadata": {},
   "source": [
    "### 2. ZN"
   ]
  },
  {
   "cell_type": "code",
   "execution_count": 235,
   "id": "445541e5",
   "metadata": {
    "scrolled": true
   },
   "outputs": [
    {
     "data": {
      "text/plain": [
       "<AxesSubplot:xlabel='ZN'>"
      ]
     },
     "execution_count": 235,
     "metadata": {},
     "output_type": "execute_result"
    },
    {
     "data": {
      "image/png": "[encoded data removed]",
      "text/plain": [
       "<Figure size 640x480 with 1 Axes>"
      ]
     },
     "metadata": {},
     "output_type": "display_data"
    }
   ],
   "source": [
    "sns.boxplot(x=df['ZN'])"
   ]
  },
  {
   "cell_type": "code",
   "execution_count": 159,
   "id": "1ada85ba",
   "metadata": {
    "scrolled": true
   },
   "outputs": [
    {
     "data": {
      "text/plain": [
       "<AxesSubplot:xlabel='ZN', ylabel='Density'>"
      ]
     },
     "execution_count": 159,
     "metadata": {},
     "output_type": "execute_result"
    },
    {
     "data": {
      "image/png": "[encoded data removed]",
      "text/plain": [
       "<Figure size 640x480 with 1 Axes>"
      ]
     },
     "metadata": {},
     "output_type": "display_data"
    }
   ],
   "source": [
    "sns.kdeplot(df['ZN'])\n",
    "#Positively skewed data - IQR or log transfomation can be applied here"
   ]
  },
  {
   "cell_type": "code",
   "execution_count": 236,
   "id": "ea23907a",
   "metadata": {},
   "outputs": [
    {
     "name": "stdout",
     "output_type": "stream",
     "text": [
      "upper tail=  31.25 & lower_tail=  -18.75\n"
     ]
    }
   ],
   "source": [
    "#IQR method\n",
    "q1=df['ZN'].quantile(0.25)\n",
    "q2=df['ZN'].quantile(0.5)\n",
    "q3=df['ZN'].quantile(0.75)\n",
    "IQR=q3-q1\n",
    "\n",
    "upper_tail=q3+(1.5*IQR)\n",
    "lower_tail=q1-(1.5*IQR)\n",
    "print('upper tail= ',upper_tail, '&','lower_tail= ',lower_tail)"
   ]
  },
  {
   "cell_type": "code",
   "execution_count": 237,
   "id": "c2fe29d3",
   "metadata": {},
   "outputs": [
    {
     "data": {
      "text/plain": [
       "39     75.0\n",
       "40     75.0\n",
       "54     75.0\n",
       "55     90.0\n",
       "56     85.0\n",
       "       ... \n",
       "351    60.0\n",
       "352    60.0\n",
       "353    90.0\n",
       "354    80.0\n",
       "355    80.0\n",
       "Name: ZN, Length: 68, dtype: float64"
      ]
     },
     "execution_count": 237,
     "metadata": {},
     "output_type": "execute_result"
    }
   ],
   "source": [
    "df.loc[(df['ZN'])>upper_tail,'ZN']\n",
    "#68 values are above upper_tail"
   ]
  },
  {
   "cell_type": "code",
   "execution_count": 238,
   "id": "89e8570d",
   "metadata": {},
   "outputs": [
    {
     "data": {
      "text/plain": [
       "Series([], Name: ZN, dtype: float64)"
      ]
     },
     "execution_count": 238,
     "metadata": {},
     "output_type": "execute_result"
    }
   ],
   "source": [
    "df.loc[(df['ZN'])<lower_tail,'ZN']\n",
    "#no outliers below lower_tail"
   ]
  },
  {
   "cell_type": "code",
   "execution_count": 239,
   "id": "bf94d02d",
   "metadata": {},
   "outputs": [
    {
     "data": {
      "text/plain": [
       "0      18.0\n",
       "1       0.0\n",
       "2       0.0\n",
       "3       0.0\n",
       "4       0.0\n",
       "       ... \n",
       "501     0.0\n",
       "502     0.0\n",
       "503     0.0\n",
       "504     0.0\n",
       "505     0.0\n",
       "Name: ZN, Length: 506, dtype: float64"
      ]
     },
     "execution_count": 239,
     "metadata": {},
     "output_type": "execute_result"
    }
   ],
   "source": [
    "df.loc[(df['ZN']<=upper_tail)&df['ZN']>=lower_tail,'ZN']"
   ]
  },
  {
   "cell_type": "code",
   "execution_count": 240,
   "id": "686e5130",
   "metadata": {},
   "outputs": [
    {
     "data": {
      "text/plain": [
       "11.363636363636363"
      ]
     },
     "execution_count": 240,
     "metadata": {},
     "output_type": "execute_result"
    }
   ],
   "source": [
    "df.loc[(df['ZN']<=upper_tail)&df['ZN']>=lower_tail,'ZN'].mean()"
   ]
  },
  {
   "cell_type": "code",
   "execution_count": 241,
   "id": "d5247676",
   "metadata": {},
   "outputs": [
    {
     "data": {
      "text/plain": [
       "0.0"
      ]
     },
     "execution_count": 241,
     "metadata": {},
     "output_type": "execute_result"
    }
   ],
   "source": [
    "df.loc[(df['ZN']<=upper_tail)&df['ZN']>=lower_tail,'ZN'].median()"
   ]
  },
  {
   "cell_type": "code",
   "execution_count": 242,
   "id": "4ec8acd3",
   "metadata": {},
   "outputs": [
    {
     "data": {
      "text/plain": [
       "Series([], Name: ZN, dtype: float64)"
      ]
     },
     "execution_count": 242,
     "metadata": {},
     "output_type": "execute_result"
    }
   ],
   "source": [
    "df.loc[(df['ZN']>upper_tail),'ZN']=upper_tail\n",
    "#outliers are imputed with upper tail\n",
    "df.loc[(df['ZN']>upper_tail),'ZN']\n",
    "#Outlers eliminated"
   ]
  },
  {
   "cell_type": "code",
   "execution_count": 243,
   "id": "eea1e7ab",
   "metadata": {},
   "outputs": [
    {
     "data": {
      "text/plain": [
       "<AxesSubplot:xlabel='ZN'>"
      ]
     },
     "execution_count": 243,
     "metadata": {},
     "output_type": "execute_result"
    },
    {
     "data": {
      "image/png": "[encoded data removed]",
      "text/plain": [
       "<Figure size 640x480 with 1 Axes>"
      ]
     },
     "metadata": {},
     "output_type": "display_data"
    }
   ],
   "source": [
    "sns.boxplot(x=df['ZN'])"
   ]
  },
  {
   "cell_type": "markdown",
   "id": "601a286d",
   "metadata": {},
   "source": [
    "### 3.CHAS"
   ]
  },
  {
   "cell_type": "code",
   "execution_count": 244,
   "id": "c5ac3ae1",
   "metadata": {},
   "outputs": [
    {
     "data": {
      "text/plain": [
       "0.0    471\n",
       "1.0     35\n",
       "Name: CHAS, dtype: int64"
      ]
     },
     "execution_count": 244,
     "metadata": {},
     "output_type": "execute_result"
    }
   ],
   "source": [
    "df[\"CHAS\"].value_counts()"
   ]
  },
  {
   "cell_type": "markdown",
   "id": "6d69bc4a",
   "metadata": {},
   "source": [
    "### 4.RM"
   ]
  },
  {
   "cell_type": "code",
   "execution_count": 245,
   "id": "7794efe5",
   "metadata": {},
   "outputs": [
    {
     "data": {
      "text/plain": [
       "<AxesSubplot:xlabel='RM'>"
      ]
     },
     "execution_count": 245,
     "metadata": {},
     "output_type": "execute_result"
    },
    {
     "data": {
      "image/png": "[encoded data removed]",
      "text/plain": [
       "<Figure size 640x480 with 1 Axes>"
      ]
     },
     "metadata": {},
     "output_type": "display_data"
    }
   ],
   "source": [
    "sns.boxplot(x=df['RM'])"
   ]
  },
  {
   "cell_type": "code",
   "execution_count": 246,
   "id": "e6c5227e",
   "metadata": {
    "scrolled": true
   },
   "outputs": [
    {
     "data": {
      "text/plain": [
       "<AxesSubplot:xlabel='RM', ylabel='Density'>"
      ]
     },
     "execution_count": 246,
     "metadata": {},
     "output_type": "execute_result"
    },
    {
     "data": {
      "image/png": "[encoded data removed]",
      "text/plain": [
       "<Figure size 640x480 with 1 Axes>"
      ]
     },
     "metadata": {},
     "output_type": "display_data"
    }
   ],
   "source": [
    "sns.kdeplot(df['RM'])"
   ]
  },
  {
   "cell_type": "code",
   "execution_count": 170,
   "id": "20106db2",
   "metadata": {},
   "outputs": [
    {
     "data": {
      "text/plain": [
       "0.40361213328874385"
      ]
     },
     "execution_count": 170,
     "metadata": {},
     "output_type": "execute_result"
    }
   ],
   "source": [
    "#Skewness\n",
    "df['RM'].skew()\n",
    "#Data is symmetric and normally distributed"
   ]
  },
  {
   "cell_type": "code",
   "execution_count": 247,
   "id": "e49c80d3",
   "metadata": {},
   "outputs": [
    {
     "name": "stdout",
     "output_type": "stream",
     "text": [
      "Lower_tail= 4.778499999999999  &  Upper_tail= 7.730500000000001\n"
     ]
    }
   ],
   "source": [
    "#Using IQR method\n",
    "q1=df[\"RM\"].quantile(0.25)\n",
    "q2=df[\"RM\"].quantile(0.5)\n",
    "q3=df[\"RM\"].quantile(0.75)\n",
    "IQR=q3-q1\n",
    "\n",
    "upper_tail= q3 + (1.5*IQR)\n",
    "lower_tail= q1 - (1.5*IQR)\n",
    "print(\"Lower_tail=\",lower_tail,\" & \", \"Upper_tail=\",upper_tail)"
   ]
  },
  {
   "cell_type": "code",
   "execution_count": 248,
   "id": "e65bfc0c",
   "metadata": {},
   "outputs": [
    {
     "data": {
      "text/plain": [
       "97     8.069\n",
       "98     7.820\n",
       "162    7.802\n",
       "163    8.375\n",
       "166    7.929\n",
       "180    7.765\n",
       "186    7.831\n",
       "195    7.875\n",
       "203    7.853\n",
       "204    8.034\n",
       "224    8.266\n",
       "225    8.725\n",
       "226    8.040\n",
       "232    8.337\n",
       "233    8.247\n",
       "253    8.259\n",
       "257    8.704\n",
       "262    8.398\n",
       "267    8.297\n",
       "280    7.820\n",
       "283    7.923\n",
       "364    8.780\n",
       "Name: RM, dtype: float64"
      ]
     },
     "execution_count": 248,
     "metadata": {},
     "output_type": "execute_result"
    }
   ],
   "source": [
    "df.loc[(df[\"RM\"]>upper_tail),\"RM\"]"
   ]
  },
  {
   "cell_type": "code",
   "execution_count": 249,
   "id": "57cf5114",
   "metadata": {},
   "outputs": [
    {
     "data": {
      "text/plain": [
       "(8,)"
      ]
     },
     "execution_count": 249,
     "metadata": {},
     "output_type": "execute_result"
    }
   ],
   "source": [
    "df.loc[(df[\"RM\"]<lower_tail),\"RM\"].shape\n",
    "#8 values are below lower_tail"
   ]
  },
  {
   "cell_type": "code",
   "execution_count": 250,
   "id": "aa1df877",
   "metadata": {},
   "outputs": [
    {
     "data": {
      "text/plain": [
       "(22,)"
      ]
     },
     "execution_count": 250,
     "metadata": {},
     "output_type": "execute_result"
    }
   ],
   "source": [
    "df.loc[(df[\"RM\"]>upper_tail),\"RM\"].shape\n",
    "#22 values are above upper_tail"
   ]
  },
  {
   "cell_type": "code",
   "execution_count": 251,
   "id": "e48f0432",
   "metadata": {},
   "outputs": [
    {
     "data": {
      "text/plain": [
       "0      6.575\n",
       "1      6.421\n",
       "2      7.185\n",
       "3      6.998\n",
       "4      7.147\n",
       "       ...  \n",
       "501    6.593\n",
       "502    6.120\n",
       "503    6.976\n",
       "504    6.794\n",
       "505    6.030\n",
       "Name: RM, Length: 476, dtype: float64"
      ]
     },
     "execution_count": 251,
     "metadata": {},
     "output_type": "execute_result"
    }
   ],
   "source": [
    "df.loc[(df['RM']<upper_tail) & (df['RM']>lower_tail),'RM']"
   ]
  },
  {
   "cell_type": "code",
   "execution_count": 252,
   "id": "1502f719",
   "metadata": {},
   "outputs": [
    {
     "data": {
      "text/plain": [
       "6.233212184873957"
      ]
     },
     "execution_count": 252,
     "metadata": {},
     "output_type": "execute_result"
    }
   ],
   "source": [
    "df_RM_Mean=df.loc[(df['RM']<upper_tail) & (df['RM']>lower_tail),'RM'].mean()\n",
    "df_RM_Mean"
   ]
  },
  {
   "cell_type": "code",
   "execution_count": 253,
   "id": "28517799",
   "metadata": {},
   "outputs": [
    {
     "data": {
      "text/plain": [
       "6.1835"
      ]
     },
     "execution_count": 253,
     "metadata": {},
     "output_type": "execute_result"
    }
   ],
   "source": [
    "df_RM_Median=df.loc[(df['RM']<upper_tail) & (df['RM']>lower_tail),'RM'].median()\n",
    "df_RM_Median"
   ]
  },
  {
   "cell_type": "code",
   "execution_count": 254,
   "id": "226d357e",
   "metadata": {},
   "outputs": [],
   "source": [
    "#There are outliers thus imputing with median\n",
    "df.loc[(df['RM']>upper_tail),'RM']=upper_tail"
   ]
  },
  {
   "cell_type": "code",
   "execution_count": 255,
   "id": "f7afaf52",
   "metadata": {},
   "outputs": [],
   "source": [
    "df.loc[(df['RM']<lower_tail),'RM']=lower_tail"
   ]
  },
  {
   "cell_type": "code",
   "execution_count": 256,
   "id": "80a76ede",
   "metadata": {},
   "outputs": [
    {
     "data": {
      "text/plain": [
       "<AxesSubplot:xlabel='RM'>"
      ]
     },
     "execution_count": 256,
     "metadata": {},
     "output_type": "execute_result"
    },
    {
     "data": {
      "image/png": "[encoded data removed]",
      "text/plain": [
       "<Figure size 640x480 with 1 Axes>"
      ]
     },
     "metadata": {},
     "output_type": "display_data"
    }
   ],
   "source": [
    "sns.boxplot(df['RM'])"
   ]
  },
  {
   "cell_type": "markdown",
   "id": "1463b9ff",
   "metadata": {},
   "source": [
    "### 5.DIS"
   ]
  },
  {
   "cell_type": "code",
   "execution_count": 257,
   "id": "d4439204",
   "metadata": {},
   "outputs": [
    {
     "data": {
      "text/plain": [
       "<AxesSubplot:xlabel='DIS'>"
      ]
     },
     "execution_count": 257,
     "metadata": {},
     "output_type": "execute_result"
    },
    {
     "data": {
      "image/png": "[encoded data removed]",
      "text/plain": [
       "<Figure size 640x480 with 1 Axes>"
      ]
     },
     "metadata": {},
     "output_type": "display_data"
    }
   ],
   "source": [
    "sns.boxplot(x=df['DIS'])"
   ]
  },
  {
   "cell_type": "code",
   "execution_count": 258,
   "id": "b417511a",
   "metadata": {},
   "outputs": [
    {
     "data": {
      "text/plain": [
       "<AxesSubplot:xlabel='DIS', ylabel='Density'>"
      ]
     },
     "execution_count": 258,
     "metadata": {},
     "output_type": "execute_result"
    },
    {
     "data": {
      "image/png": "[encoded data removed]",
      "text/plain": [
       "<Figure size 640x480 with 1 Axes>"
      ]
     },
     "metadata": {},
     "output_type": "display_data"
    }
   ],
   "source": [
    "sns.kdeplot(df['DIS'])"
   ]
  },
  {
   "cell_type": "code",
   "execution_count": 259,
   "id": "ff26bd3a",
   "metadata": {},
   "outputs": [
    {
     "data": {
      "text/plain": [
       "1.0117805793009007"
      ]
     },
     "execution_count": 259,
     "metadata": {},
     "output_type": "execute_result"
    }
   ],
   "source": [
    "df['DIS'].skew()\n",
    "#Highly positive skewed"
   ]
  },
  {
   "cell_type": "code",
   "execution_count": 260,
   "id": "89767891",
   "metadata": {},
   "outputs": [
    {
     "name": "stdout",
     "output_type": "stream",
     "text": [
      "Lower_tail= -2.5322000000000005  &  Upper_tail= 9.820800000000002\n"
     ]
    }
   ],
   "source": [
    "#Using IQR method\n",
    "q1=df[\"DIS\"].quantile(0.25)\n",
    "q2=df[\"DIS\"].quantile(0.5)\n",
    "q3=df[\"DIS\"].quantile(0.75)\n",
    "IQR=q3-q1\n",
    "\n",
    "upper_tail= q3 + (1.5*IQR)\n",
    "lower_tail= q1 - (1.5*IQR)\n",
    "print(\"Lower_tail=\",lower_tail,\" & \", \"Upper_tail=\",upper_tail)"
   ]
  },
  {
   "cell_type": "code",
   "execution_count": 261,
   "id": "a7d26e74",
   "metadata": {},
   "outputs": [
    {
     "data": {
      "text/plain": [
       "(5,)"
      ]
     },
     "execution_count": 261,
     "metadata": {},
     "output_type": "execute_result"
    }
   ],
   "source": [
    "df.loc[(df[\"DIS\"]>upper_tail),\"DIS\"].shape\n",
    "#5 values are above upper_tail"
   ]
  },
  {
   "cell_type": "code",
   "execution_count": 262,
   "id": "a26b75a9",
   "metadata": {},
   "outputs": [
    {
     "data": {
      "text/plain": [
       "Series([], Name: DIS, dtype: float64)"
      ]
     },
     "execution_count": 262,
     "metadata": {},
     "output_type": "execute_result"
    }
   ],
   "source": [
    "df.loc[(df[\"DIS\"]<lower_tail),\"DIS\"]\n",
    "# 0 outliers below lower_tail"
   ]
  },
  {
   "cell_type": "code",
   "execution_count": 263,
   "id": "219c53b2",
   "metadata": {},
   "outputs": [],
   "source": [
    "mean_DIS=df.loc[(df[\"DIS\"]<=upper_tail),\"DIS\"].mean()\n",
    "df.loc[(df[\"DIS\"]>upper_tail),\"DIS\"]=mean_DIS"
   ]
  },
  {
   "cell_type": "code",
   "execution_count": 264,
   "id": "4e4e6135",
   "metadata": {},
   "outputs": [
    {
     "data": {
      "text/plain": [
       "<AxesSubplot:xlabel='DIS'>"
      ]
     },
     "execution_count": 264,
     "metadata": {},
     "output_type": "execute_result"
    },
    {
     "data": {
      "image/png": "[encoded data removed]",
      "text/plain": [
       "<Figure size 640x480 with 1 Axes>"
      ]
     },
     "metadata": {},
     "output_type": "display_data"
    }
   ],
   "source": [
    "sns.boxplot(x=df['DIS'])"
   ]
  },
  {
   "cell_type": "markdown",
   "id": "b11c1d77",
   "metadata": {},
   "source": [
    "### 3.PTRATIO"
   ]
  },
  {
   "cell_type": "code",
   "execution_count": 265,
   "id": "74d08fd0",
   "metadata": {},
   "outputs": [
    {
     "data": {
      "text/plain": [
       "<AxesSubplot:xlabel='PTRATIO'>"
      ]
     },
     "execution_count": 265,
     "metadata": {},
     "output_type": "execute_result"
    },
    {
     "data": {
      "image/png": "[encoded data removed]",
      "text/plain": [
       "<Figure size 640x480 with 1 Axes>"
      ]
     },
     "metadata": {},
     "output_type": "display_data"
    }
   ],
   "source": [
    "sns.boxplot(x=df['PTRATIO'])"
   ]
  },
  {
   "cell_type": "code",
   "execution_count": 266,
   "id": "2774dcf1",
   "metadata": {},
   "outputs": [
    {
     "data": {
      "text/plain": [
       "<AxesSubplot:xlabel='PTRATIO', ylabel='Density'>"
      ]
     },
     "execution_count": 266,
     "metadata": {},
     "output_type": "execute_result"
    },
    {
     "data": {
      "image/png": "[encoded data removed]",
      "text/plain": [
       "<Figure size 640x480 with 1 Axes>"
      ]
     },
     "metadata": {},
     "output_type": "display_data"
    }
   ],
   "source": [
    "sns.kdeplot(df['PTRATIO'])\n",
    "#negatively skewed data - Can use IQR"
   ]
  },
  {
   "cell_type": "code",
   "execution_count": 191,
   "id": "15e49691",
   "metadata": {},
   "outputs": [
    {
     "data": {
      "text/plain": [
       "-0.8023249268537809"
      ]
     },
     "execution_count": 191,
     "metadata": {},
     "output_type": "execute_result"
    }
   ],
   "source": [
    "df['PTRATIO'].skew()"
   ]
  },
  {
   "cell_type": "code",
   "execution_count": 267,
   "id": "4ea7876d",
   "metadata": {},
   "outputs": [
    {
     "name": "stdout",
     "output_type": "stream",
     "text": [
      "Lower_tail= 13.199999999999998  &  Upper_tail= 24.4\n"
     ]
    }
   ],
   "source": [
    "#Using IQR method\n",
    "q1=df[\"PTRATIO\"].quantile(0.25)\n",
    "q2=df[\"PTRATIO\"].quantile(0.5)\n",
    "q3=df[\"PTRATIO\"].quantile(0.75)\n",
    "IQR=q3-q1\n",
    "\n",
    "upper_tail= q3 + (1.5*IQR)\n",
    "lower_tail= q1 - (1.5*IQR)\n",
    "print(\"Lower_tail=\",lower_tail,\" & \", \"Upper_tail=\",upper_tail)"
   ]
  },
  {
   "cell_type": "code",
   "execution_count": 268,
   "id": "f6dd8a35",
   "metadata": {},
   "outputs": [
    {
     "data": {
      "text/plain": [
       "(15,)"
      ]
     },
     "execution_count": 268,
     "metadata": {},
     "output_type": "execute_result"
    }
   ],
   "source": [
    "df.loc[(df[\"PTRATIO\"]<lower_tail),\"PTRATIO\"].shape\n",
    "# 15 outliers below lower_tail"
   ]
  },
  {
   "cell_type": "code",
   "execution_count": 269,
   "id": "3704043a",
   "metadata": {},
   "outputs": [
    {
     "name": "stdout",
     "output_type": "stream",
     "text": [
      "Median :  19.1\n",
      "Mean :  18.624643584521394\n"
     ]
    }
   ],
   "source": [
    "median_PTRATIO=df.loc[(df[\"PTRATIO\"]>=lower_tail),\"PTRATIO\"].median()\n",
    "print('Median : ',median_PTRATIO)\n",
    "mean_PTRATIO=df.loc[(df[\"PTRATIO\"]>=lower_tail),\"PTRATIO\"].mean()\n",
    "print('Mean : ',mean_PTRATIO)"
   ]
  },
  {
   "cell_type": "code",
   "execution_count": 270,
   "id": "70ba126e",
   "metadata": {},
   "outputs": [],
   "source": [
    "df.loc[(df['PTRATIO']<lower_tail),'PTRATIO']=median_PTRATIO"
   ]
  },
  {
   "cell_type": "code",
   "execution_count": 271,
   "id": "4aa9f0e7",
   "metadata": {},
   "outputs": [
    {
     "data": {
      "text/plain": [
       "<AxesSubplot:xlabel='PTRATIO'>"
      ]
     },
     "execution_count": 271,
     "metadata": {},
     "output_type": "execute_result"
    },
    {
     "data": {
      "image/png": "[encoded data removed]",
      "text/plain": [
       "<Figure size 640x480 with 1 Axes>"
      ]
     },
     "metadata": {},
     "output_type": "display_data"
    }
   ],
   "source": [
    "sns.boxplot(x=df['PTRATIO'])"
   ]
  },
  {
   "cell_type": "markdown",
   "id": "6e191d57",
   "metadata": {},
   "source": [
    "### 7.B"
   ]
  },
  {
   "cell_type": "code",
   "execution_count": 272,
   "id": "e9c397a1",
   "metadata": {},
   "outputs": [
    {
     "data": {
      "text/plain": [
       "<AxesSubplot:xlabel='B'>"
      ]
     },
     "execution_count": 272,
     "metadata": {},
     "output_type": "execute_result"
    },
    {
     "data": {
      "image/png": "[encoded data removed]",
      "text/plain": [
       "<Figure size 640x480 with 1 Axes>"
      ]
     },
     "metadata": {},
     "output_type": "display_data"
    }
   ],
   "source": [
    "sns.boxplot(df['B'])"
   ]
  },
  {
   "cell_type": "code",
   "execution_count": 273,
   "id": "3347c6ee",
   "metadata": {},
   "outputs": [
    {
     "data": {
      "text/plain": [
       "<AxesSubplot:xlabel='B', ylabel='Density'>"
      ]
     },
     "execution_count": 273,
     "metadata": {},
     "output_type": "execute_result"
    },
    {
     "data": {
      "image/png": "[encoded data removed]",
      "text/plain": [
       "<Figure size 640x480 with 1 Axes>"
      ]
     },
     "metadata": {},
     "output_type": "display_data"
    }
   ],
   "source": [
    "sns.kdeplot(df['B'])"
   ]
  },
  {
   "cell_type": "code",
   "execution_count": 274,
   "id": "78abb78d",
   "metadata": {},
   "outputs": [
    {
     "data": {
      "text/plain": [
       "-2.8903737121414492"
      ]
     },
     "execution_count": 274,
     "metadata": {},
     "output_type": "execute_result"
    }
   ],
   "source": [
    "df['B'].skew()\n",
    "#Data is highly negative skewed"
   ]
  },
  {
   "cell_type": "code",
   "execution_count": 275,
   "id": "876a2128",
   "metadata": {},
   "outputs": [
    {
     "name": "stdout",
     "output_type": "stream",
     "text": [
      "Lower_tail= 344.10624999999993  &  Upper_tail= 427.49625000000003\n"
     ]
    }
   ],
   "source": [
    "#Using IQR method\n",
    "q1=df[\"B\"].quantile(0.25)\n",
    "q2=df[\"B\"].quantile(0.5)\n",
    "q3=df[\"B\"].quantile(0.75)\n",
    "IQR=q3-q1\n",
    "\n",
    "upper_tail= q3 + (1.5*IQR)\n",
    "lower_tail= q1 - (1.5*IQR)\n",
    "print(\"Lower_tail=\",lower_tail,\" & \", \"Upper_tail=\",upper_tail)"
   ]
  },
  {
   "cell_type": "code",
   "execution_count": 276,
   "id": "59e017f9",
   "metadata": {},
   "outputs": [
    {
     "data": {
      "text/plain": [
       "(77,)"
      ]
     },
     "execution_count": 276,
     "metadata": {},
     "output_type": "execute_result"
    }
   ],
   "source": [
    "df.loc[(df[\"B\"]<lower_tail),\"B\"].shape\n",
    "# 77 outliers below lower_tail"
   ]
  },
  {
   "cell_type": "code",
   "execution_count": 277,
   "id": "37a9cd36",
   "metadata": {},
   "outputs": [],
   "source": [
    "df.loc[(df['B']<lower_tail),'B']=lower_tail"
   ]
  },
  {
   "cell_type": "code",
   "execution_count": 278,
   "id": "38d0055f",
   "metadata": {},
   "outputs": [
    {
     "data": {
      "text/plain": [
       "<AxesSubplot:xlabel='B'>"
      ]
     },
     "execution_count": 278,
     "metadata": {},
     "output_type": "execute_result"
    },
    {
     "data": {
      "image/png": "[encoded data removed]",
      "text/plain": [
       "<Figure size 640x480 with 1 Axes>"
      ]
     },
     "metadata": {},
     "output_type": "display_data"
    }
   ],
   "source": [
    "sns.boxplot(x=df['B'])"
   ]
  },
  {
   "cell_type": "markdown",
   "id": "66b03515",
   "metadata": {},
   "source": [
    "### 8.LSTAT"
   ]
  },
  {
   "cell_type": "code",
   "execution_count": 279,
   "id": "a01e80ca",
   "metadata": {},
   "outputs": [
    {
     "data": {
      "text/plain": [
       "<AxesSubplot:xlabel='LSTAT'>"
      ]
     },
     "execution_count": 279,
     "metadata": {},
     "output_type": "execute_result"
    },
    {
     "data": {
      "image/png": "[encoded data removed]",
      "text/plain": [
       "<Figure size 640x480 with 1 Axes>"
      ]
     },
     "metadata": {},
     "output_type": "display_data"
    }
   ],
   "source": [
    "sns.boxplot(x=df['LSTAT'])"
   ]
  },
  {
   "cell_type": "code",
   "execution_count": 280,
   "id": "a25699b1",
   "metadata": {},
   "outputs": [
    {
     "data": {
      "text/plain": [
       "<AxesSubplot:xlabel='LSTAT', ylabel='Density'>"
      ]
     },
     "execution_count": 280,
     "metadata": {},
     "output_type": "execute_result"
    },
    {
     "data": {
      "image/png": "[encoded data removed]",
      "text/plain": [
       "<Figure size 640x480 with 1 Axes>"
      ]
     },
     "metadata": {},
     "output_type": "display_data"
    }
   ],
   "source": [
    "sns.kdeplot(df['LSTAT'])"
   ]
  },
  {
   "cell_type": "code",
   "execution_count": 281,
   "id": "07e59a27",
   "metadata": {},
   "outputs": [
    {
     "data": {
      "text/plain": [
       "0.9064600935915367"
      ]
     },
     "execution_count": 281,
     "metadata": {},
     "output_type": "execute_result"
    }
   ],
   "source": [
    "df['LSTAT'].skew()\n",
    "#positively skewed data - Can use IQR"
   ]
  },
  {
   "cell_type": "code",
   "execution_count": 282,
   "id": "ad908ec7",
   "metadata": {},
   "outputs": [
    {
     "name": "stdout",
     "output_type": "stream",
     "text": [
      "Lower_tail= -8.057500000000005  &  Upper_tail= 31.962500000000006\n"
     ]
    }
   ],
   "source": [
    "#Using IQR method\n",
    "q1=df[\"LSTAT\"].quantile(0.25)\n",
    "q2=df[\"LSTAT\"].quantile(0.5)\n",
    "q3=df[\"LSTAT\"].quantile(0.75)\n",
    "IQR=q3-q1\n",
    "\n",
    "upper_tail= q3 + (1.5*IQR)\n",
    "lower_tail= q1 - (1.5*IQR)\n",
    "print(\"Lower_tail=\",lower_tail,\" & \", \"Upper_tail=\",upper_tail)"
   ]
  },
  {
   "cell_type": "code",
   "execution_count": 283,
   "id": "8ccfcac9",
   "metadata": {},
   "outputs": [
    {
     "data": {
      "text/plain": [
       "(7,)"
      ]
     },
     "execution_count": 283,
     "metadata": {},
     "output_type": "execute_result"
    }
   ],
   "source": [
    "df.loc[(df[\"LSTAT\"]>upper_tail),\"LSTAT\"].shape\n",
    "# 7 outliers below upper_tail"
   ]
  },
  {
   "cell_type": "code",
   "execution_count": 285,
   "id": "8d7c1961",
   "metadata": {},
   "outputs": [
    {
     "data": {
      "text/plain": [
       "<AxesSubplot:xlabel='LSTAT'>"
      ]
     },
     "execution_count": 285,
     "metadata": {},
     "output_type": "execute_result"
    },
    {
     "data": {
      "image/png": "[encoded data removed]",
      "text/plain": [
       "<Figure size 640x480 with 1 Axes>"
      ]
     },
     "metadata": {},
     "output_type": "display_data"
    }
   ],
   "source": [
    "df.loc[(df[\"LSTAT\"]>upper_tail),\"LSTAT\"]=upper_tail\n",
    "sns.boxplot(df['LSTAT'])"
   ]
  },
  {
   "cell_type": "code",
   "execution_count": null,
   "id": "c76e75dc",
   "metadata": {},
   "outputs": [],
   "source": [
    "#All outliers now has been treated- \"CHAS\" feature has to be eliminated"
   ]
  },
  {
   "cell_type": "markdown",
   "id": "db290693",
   "metadata": {},
   "source": [
    "## 5. Feature Selection"
   ]
  },
  {
   "cell_type": "code",
   "execution_count": 286,
   "id": "be50e5e8",
   "metadata": {},
   "outputs": [],
   "source": [
    "df.drop('CHAS',axis=1,inplace=True)"
   ]
  },
  {
   "cell_type": "code",
   "execution_count": 299,
   "id": "1a539125",
   "metadata": {},
   "outputs": [
    {
     "data": {
      "text/html": [
       "<div>\n",
       "<style scoped>\n",
       "    .dataframe tbody tr th:only-of-type {\n",
       "        vertical-align: middle;\n",
       "    }\n",
       "\n",
       "    .dataframe tbody tr th {\n",
       "        vertical-align: top;\n",
       "    }\n",
       "\n",
       "    .dataframe thead th {\n",
       "        text-align: right;\n",
       "    }\n",
       "</style>\n",
       "<table border=\"1\" class=\"dataframe\">\n",
       "  <thead>\n",
       "    <tr style=\"text-align: right;\">\n",
       "      <th></th>\n",
       "      <th>CRIM</th>\n",
       "      <th>ZN</th>\n",
       "      <th>INDUS</th>\n",
       "      <th>NOX</th>\n",
       "      <th>RM</th>\n",
       "      <th>AGE</th>\n",
       "      <th>DIS</th>\n",
       "      <th>RAD</th>\n",
       "      <th>TAX</th>\n",
       "      <th>PTRATIO</th>\n",
       "      <th>B</th>\n",
       "      <th>LSTAT</th>\n",
       "      <th>PRICE</th>\n",
       "    </tr>\n",
       "  </thead>\n",
       "  <tbody>\n",
       "    <tr>\n",
       "      <th>0</th>\n",
       "      <td>0.00632</td>\n",
       "      <td>18.0</td>\n",
       "      <td>2.31</td>\n",
       "      <td>0.538</td>\n",
       "      <td>6.575</td>\n",
       "      <td>65.2</td>\n",
       "      <td>4.0900</td>\n",
       "      <td>1.0</td>\n",
       "      <td>296.0</td>\n",
       "      <td>15.3</td>\n",
       "      <td>396.90</td>\n",
       "      <td>4.98</td>\n",
       "      <td>24.0</td>\n",
       "    </tr>\n",
       "    <tr>\n",
       "      <th>1</th>\n",
       "      <td>0.02731</td>\n",
       "      <td>0.0</td>\n",
       "      <td>7.07</td>\n",
       "      <td>0.469</td>\n",
       "      <td>6.421</td>\n",
       "      <td>78.9</td>\n",
       "      <td>4.9671</td>\n",
       "      <td>2.0</td>\n",
       "      <td>242.0</td>\n",
       "      <td>17.8</td>\n",
       "      <td>396.90</td>\n",
       "      <td>9.14</td>\n",
       "      <td>21.6</td>\n",
       "    </tr>\n",
       "    <tr>\n",
       "      <th>2</th>\n",
       "      <td>0.02729</td>\n",
       "      <td>0.0</td>\n",
       "      <td>7.07</td>\n",
       "      <td>0.469</td>\n",
       "      <td>7.185</td>\n",
       "      <td>61.1</td>\n",
       "      <td>4.9671</td>\n",
       "      <td>2.0</td>\n",
       "      <td>242.0</td>\n",
       "      <td>17.8</td>\n",
       "      <td>392.83</td>\n",
       "      <td>4.03</td>\n",
       "      <td>34.7</td>\n",
       "    </tr>\n",
       "    <tr>\n",
       "      <th>3</th>\n",
       "      <td>0.03237</td>\n",
       "      <td>0.0</td>\n",
       "      <td>2.18</td>\n",
       "      <td>0.458</td>\n",
       "      <td>6.998</td>\n",
       "      <td>45.8</td>\n",
       "      <td>6.0622</td>\n",
       "      <td>3.0</td>\n",
       "      <td>222.0</td>\n",
       "      <td>18.7</td>\n",
       "      <td>394.63</td>\n",
       "      <td>2.94</td>\n",
       "      <td>33.4</td>\n",
       "    </tr>\n",
       "    <tr>\n",
       "      <th>4</th>\n",
       "      <td>0.06905</td>\n",
       "      <td>0.0</td>\n",
       "      <td>2.18</td>\n",
       "      <td>0.458</td>\n",
       "      <td>7.147</td>\n",
       "      <td>54.2</td>\n",
       "      <td>6.0622</td>\n",
       "      <td>3.0</td>\n",
       "      <td>222.0</td>\n",
       "      <td>18.7</td>\n",
       "      <td>396.90</td>\n",
       "      <td>5.33</td>\n",
       "      <td>36.2</td>\n",
       "    </tr>\n",
       "  </tbody>\n",
       "</table>\n",
       "</div>"
      ],
      "text/plain": [
       "      CRIM    ZN  INDUS    NOX     RM   AGE     DIS  RAD    TAX  PTRATIO  \\\n",
       "0  0.00632  18.0   2.31  0.538  6.575  65.2  4.0900  1.0  296.0     15.3   \n",
       "1  0.02731   0.0   7.07  0.469  6.421  78.9  4.9671  2.0  242.0     17.8   \n",
       "2  0.02729   0.0   7.07  0.469  7.185  61.1  4.9671  2.0  242.0     17.8   \n",
       "3  0.03237   0.0   2.18  0.458  6.998  45.8  6.0622  3.0  222.0     18.7   \n",
       "4  0.06905   0.0   2.18  0.458  7.147  54.2  6.0622  3.0  222.0     18.7   \n",
       "\n",
       "        B  LSTAT  PRICE  \n",
       "0  396.90   4.98   24.0  \n",
       "1  396.90   9.14   21.6  \n",
       "2  392.83   4.03   34.7  \n",
       "3  394.63   2.94   33.4  \n",
       "4  396.90   5.33   36.2  "
      ]
     },
     "execution_count": 299,
     "metadata": {},
     "output_type": "execute_result"
    }
   ],
   "source": [
    "df.head(5)"
   ]
  },
  {
   "cell_type": "code",
   "execution_count": 291,
   "id": "76d02235",
   "metadata": {},
   "outputs": [
    {
     "data": {
      "text/plain": [
       "<AxesSubplot:>"
      ]
     },
     "execution_count": 291,
     "metadata": {},
     "output_type": "execute_result"
    },
    {
     "data": {
      "image/png": "[encoded data removed]",
      "text/plain": [
       "<Figure size 1000x1000 with 2 Axes>"
      ]
     },
     "metadata": {},
     "output_type": "display_data"
    }
   ],
   "source": [
    "corr=df.corr()\n",
    "plt.figure(figsize=(10,10))\n",
    "sns.heatmap(corr,annot=True, cmap='rainbow')"
   ]
  },
  {
   "cell_type": "code",
   "execution_count": 296,
   "id": "0daecfbb",
   "metadata": {},
   "outputs": [
    {
     "data": {
      "text/plain": [
       "<AxesSubplot:>"
      ]
     },
     "execution_count": 296,
     "metadata": {},
     "output_type": "execute_result"
    },
    {
     "data": {
      "image/png": "[encoded data removed]",
      "text/plain": [
       "<Figure size 1000x100 with 2 Axes>"
      ]
     },
     "metadata": {},
     "output_type": "display_data"
    }
   ],
   "source": [
    "corr_price=df.corr().tail(1).sort_values('PRICE')\n",
    "plt.figure(figsize=(10,1))\n",
    "sns.heatmap(corr_price,annot=True, cmap= 'rainbow')"
   ]
  },
  {
   "cell_type": "code",
   "execution_count": 300,
   "id": "d21dc508",
   "metadata": {},
   "outputs": [],
   "source": [
    "x=df.drop('PRICE',axis=1)\n",
    "y=df['PRICE']"
   ]
  },
  {
   "cell_type": "code",
   "execution_count": 302,
   "id": "7ffa7b2c",
   "metadata": {},
   "outputs": [
    {
     "data": {
      "text/plain": [
       "<AxesSubplot:>"
      ]
     },
     "execution_count": 302,
     "metadata": {},
     "output_type": "execute_result"
    },
    {
     "data": {
      "image/png": "[encoded data removed]",
      "text/plain": [
       "<Figure size 640x480 with 1 Axes>"
      ]
     },
     "metadata": {},
     "output_type": "display_data"
    }
   ],
   "source": [
    "vif_list=[]\n",
    "\n",
    "for i in range(df.shape[1]):\n",
    "    vif=variance_inflation_factor(df.to_numpy(),i)\n",
    "    vif_list.append(vif)\n",
    "    \n",
    "    \n",
    "s1=pd.Series(vif_list,index=df.columns)\n",
    "s1.sort_values().plot(kind='barh')"
   ]
  },
  {
   "cell_type": "markdown",
   "id": "fc168be8",
   "metadata": {},
   "source": [
    "# A] Linear Regression"
   ]
  },
  {
   "cell_type": "code",
   "execution_count": 304,
   "id": "f40dd0a6",
   "metadata": {},
   "outputs": [
    {
     "name": "stdout",
     "output_type": "stream",
     "text": [
      "(379, 12)\n",
      "(127, 12)\n",
      "(379,)\n",
      "(127,)\n"
     ]
    }
   ],
   "source": [
    "x_train, x_test, y_train, y_test = train_test_split(x,y,test_size=0.25,random_state=12,shuffle=True)\n",
    "print(x_train.shape)\n",
    "print(x_test.shape)\n",
    "print(y_train.shape)\n",
    "print(y_test.shape)"
   ]
  },
  {
   "cell_type": "code",
   "execution_count": 306,
   "id": "89a9573c",
   "metadata": {},
   "outputs": [
    {
     "data": {
      "text/plain": [
       "LinearRegression()"
      ]
     },
     "execution_count": 306,
     "metadata": {},
     "output_type": "execute_result"
    }
   ],
   "source": [
    "linear_reg=LinearRegression()\n",
    "linear_reg.fit(x_train,y_train)"
   ]
  },
  {
   "cell_type": "markdown",
   "id": "df3f0c13",
   "metadata": {},
   "source": [
    "### Model Evaluation"
   ]
  },
  {
   "cell_type": "code",
   "execution_count": 308,
   "id": "0f56f5fa",
   "metadata": {},
   "outputs": [
    {
     "name": "stdout",
     "output_type": "stream",
     "text": [
      "Mean Squared Error:  27.03088312274086\n",
      "Root Mean Squared Error:  5.19912330328305\n",
      "Mean Absolute Error: 3.7126435689570774\n",
      "Test_accuracy: 0.6926132613830929\n",
      "Adjusted R2 Score: 0.6663323175057263\n"
     ]
    }
   ],
   "source": [
    "# Model Evaluation on Testing Data\n",
    "y_pred=linear_reg.predict(x_test)\n",
    "\n",
    "mse_test=mean_squared_error(y_test,y_pred)\n",
    "print(\"Mean Squared Error: \",mse_test)\n",
    "\n",
    "rmse=np.sqrt(mse_test)\n",
    "print(\"Root Mean Squared Error: \",rmse)\n",
    "\n",
    "mae=mean_absolute_error(y_test,y_pred)\n",
    "print(\"Mean Absolute Error:\",mae)\n",
    "\n",
    "test_accuracy=r2_score(y_test,y_pred)\n",
    "print(\"Test_accuracy:\",test_accuracy)\n",
    "\n",
    "adj_r2=1-(((1-test_accuracy)*(x_test.shape[0])-1))/(x_test.shape[0]-x_test.shape[1]-1)\n",
    "print(\"Adjusted R2 Score:\",adj_r2)"
   ]
  },
  {
   "cell_type": "code",
   "execution_count": 313,
   "id": "1444b48a",
   "metadata": {},
   "outputs": [
    {
     "name": "stdout",
     "output_type": "stream",
     "text": [
      "Mean Squared Error:  24.528616498935293\n",
      "Root Mean Squared Error:  4.952637327620032\n",
      "Mean Absolute Error: 3.5226559158336244\n",
      "Test_accuracy: 0.7031701449788276\n",
      "Adjusted R2 Score: 0.6953592484890045\n"
     ]
    }
   ],
   "source": [
    "# Model Evaluation on Training Data\n",
    "y_pred=linear_reg.predict(x_train)\n",
    "\n",
    "mse_test=mean_squared_error(y_train,y_pred)\n",
    "print(\"Mean Squared Error: \",mse_test)\n",
    "\n",
    "rmse=np.sqrt(mse_test)\n",
    "print(\"Root Mean Squared Error: \",rmse)\n",
    "\n",
    "mae=mean_absolute_error(y_train,y_pred)\n",
    "print(\"Mean Absolute Error:\",mae)\n",
    "\n",
    "train_accuracy=r2_score(y_train,y_pred)\n",
    "print(\"Test_accuracy:\",test_accuracy)\n",
    "\n",
    "adj_r2=1-(((1-train_accuracy)*(x_train.shape[0])-1))/(x_train.shape[0]-x_train.shape[1]-1)\n",
    "print(\"Adjusted R2 Score:\",adj_r2)"
   ]
  },
  {
   "cell_type": "markdown",
   "id": "db707459",
   "metadata": {},
   "source": [
    "### Creating dictonary to save all model results"
   ]
  },
  {
   "cell_type": "code",
   "execution_count": 314,
   "id": "a9b3e529",
   "metadata": {},
   "outputs": [],
   "source": [
    "result_dict = {'train_accuracy':[] , 'test_accuracy':[], 'mse':[]}\n",
    "index = []"
   ]
  },
  {
   "cell_type": "code",
   "execution_count": 315,
   "id": "0bc51a19",
   "metadata": {},
   "outputs": [],
   "source": [
    "result_dict[\"train_accuracy\"].append(train_accuracy)\n",
    "result_dict[\"test_accuracy\"].append(test_accuracy)\n",
    "result_dict[\"mse\"].append(mse_test)\n",
    "index.append(\"linear_reg\")"
   ]
  },
  {
   "cell_type": "markdown",
   "id": "859fc41e",
   "metadata": {},
   "source": [
    "# B] Ridge Regression"
   ]
  },
  {
   "cell_type": "markdown",
   "id": "6db45341",
   "metadata": {},
   "source": [
    "### Hyperparameter Tuning"
   ]
  },
  {
   "cell_type": "code",
   "execution_count": 321,
   "id": "8c59b09a",
   "metadata": {},
   "outputs": [
    {
     "data": {
      "text/plain": [
       "Ridge(alpha=0.01)"
      ]
     },
     "execution_count": 321,
     "metadata": {},
     "output_type": "execute_result"
    }
   ],
   "source": [
    "ridge=Ridge()\n",
    "paramgrid = {'alpha':np.arange(0.01,30)}\n",
    "\n",
    "gscv=GridSearchCV(ridge,paramgrid,cv=5)\n",
    "gscv.fit(x_train,y_train)\n",
    "gscv.best_estimator_"
   ]
  },
  {
   "cell_type": "code",
   "execution_count": 322,
   "id": "38e9a78c",
   "metadata": {},
   "outputs": [
    {
     "data": {
      "text/plain": [
       "Ridge(alpha=0.01)"
      ]
     },
     "execution_count": 322,
     "metadata": {},
     "output_type": "execute_result"
    }
   ],
   "source": [
    "ridge=Ridge(alpha=0.01)\n",
    "ridge.fit(x_train,y_train)"
   ]
  },
  {
   "cell_type": "code",
   "execution_count": 326,
   "id": "39d4b130",
   "metadata": {},
   "outputs": [
    {
     "name": "stdout",
     "output_type": "stream",
     "text": [
      "Mean Squared Error:  27.021948062386635\n",
      "Root Mean Squared Error:  4.952641981281562\n",
      "Mean Absolute Error: 3.712146296907429\n",
      "Test_accuracy: 0.6927148680915811\n",
      "Adjusted R2 Score: 0.6664455109441298\n"
     ]
    }
   ],
   "source": [
    "# Model Evaluation on Testing Data\n",
    "y_pred=ridge.predict(x_test)\n",
    "\n",
    "\n",
    "mse_test=mean_squared_error(y_test,y_pred)\n",
    "print(\"Mean Squared Error: \",mse_test)\n",
    "\n",
    "rmse=np.sqrt(mse)\n",
    "print(\"Root Mean Squared Error: \",rmse)\n",
    "\n",
    "mae=mean_absolute_error(y_test,y_pred)\n",
    "print(\"Mean Absolute Error:\",mae)\n",
    "\n",
    "test_accuracy=r2_score(y_test,y_pred)\n",
    "print(\"Test_accuracy:\",test_accuracy)\n",
    "\n",
    "adj_r2=1-(((1-test_accuracy)*(x_test.shape[0])-1))/(x_test.shape[0]-x_test.shape[1]-1)\n",
    "print(\"Adjusted R2 Score:\",adj_r2)"
   ]
  },
  {
   "cell_type": "code",
   "execution_count": 325,
   "id": "f1af5f0c",
   "metadata": {},
   "outputs": [
    {
     "name": "stdout",
     "output_type": "stream",
     "text": [
      "Mean Squared Error:  24.528662594752554\n",
      "Root Mean Squared Error:  4.952641981281562\n",
      "Mean Absolute Error: 3.5220578684471446\n",
      "Train_accuracy: 0.703169587156304\n",
      "Adjusted R2 Score: 0.6953586708531125\n"
     ]
    }
   ],
   "source": [
    "## Model Evaluation on Training Data\n",
    "\n",
    "y_pred_train=ridge.predict(x_train)\n",
    "\n",
    "\n",
    "mse=mean_squared_error(y_train,y_pred_train)\n",
    "print(\"Mean Squared Error: \",mse)\n",
    "\n",
    "rmse=np.sqrt(mse)\n",
    "print(\"Root Mean Squared Error: \",rmse)\n",
    "\n",
    "mae=mean_absolute_error(y_train,y_pred_train)\n",
    "print(\"Mean Absolute Error:\",mae)\n",
    "\n",
    "train_accuracy=r2_score(y_train,y_pred_train)\n",
    "print(\"Train_accuracy:\",train_accuracy)\n",
    "\n",
    "adj_r2=1-(((1-train_accuracy)*(x_train.shape[0])-1))/(x_train.shape[0]-x_train.shape[1]-1)\n",
    "print(\"Adjusted R2 Score:\",adj_r2)"
   ]
  },
  {
   "cell_type": "code",
   "execution_count": 327,
   "id": "a52f918b",
   "metadata": {},
   "outputs": [],
   "source": [
    "result_dict[\"train_accuracy\"].append(train_accuracy)\n",
    "result_dict[\"test_accuracy\"].append(test_accuracy)\n",
    "result_dict[\"mse\"].append(mse_test)\n",
    "index.append(\"ridge\")"
   ]
  },
  {
   "cell_type": "markdown",
   "id": "3c6be844",
   "metadata": {},
   "source": [
    "# C] Lasso Regression"
   ]
  },
  {
   "cell_type": "markdown",
   "id": "98c5d378",
   "metadata": {},
   "source": [
    "### Hyperparameter Tuning"
   ]
  },
  {
   "cell_type": "code",
   "execution_count": 329,
   "id": "7c16438b",
   "metadata": {},
   "outputs": [
    {
     "data": {
      "text/plain": [
       "Lasso(alpha=0.01)"
      ]
     },
     "execution_count": 329,
     "metadata": {},
     "output_type": "execute_result"
    }
   ],
   "source": [
    "lasso=Lasso()\n",
    "paramgrid={'alpha':np.arange(0.01,30)}\n",
    "\n",
    "gscv=GridSearchCV(lasso,paramgrid,cv=5)\n",
    "gscv.fit(x_train,y_train)\n",
    "gscv.best_estimator_"
   ]
  },
  {
   "cell_type": "code",
   "execution_count": 330,
   "id": "3f0999c5",
   "metadata": {},
   "outputs": [
    {
     "data": {
      "text/plain": [
       "Lasso(alpha=0.01)"
      ]
     },
     "execution_count": 330,
     "metadata": {},
     "output_type": "execute_result"
    }
   ],
   "source": [
    "lasso=Lasso(alpha=0.01)\n",
    "lasso.fit(x_train,y_train)"
   ]
  },
  {
   "cell_type": "code",
   "execution_count": 331,
   "id": "b5785f0d",
   "metadata": {},
   "outputs": [
    {
     "name": "stdout",
     "output_type": "stream",
     "text": [
      "Mean Squared Error:  26.917239176440876\n",
      "Root Mean Squared Error:  4.952641981281562\n",
      "Mean Absolute Error: 3.7091904842436323\n",
      "Test_accuracy: 0.6939055847547744\n",
      "Adjusted R2 Score: 0.6677720110864591\n"
     ]
    }
   ],
   "source": [
    "# Model Evaluation on Testing Data\n",
    "y_pred=lasso.predict(x_test)\n",
    "\n",
    "\n",
    "mse_test=mean_squared_error(y_test,y_pred)\n",
    "print(\"Mean Squared Error: \",mse_test)\n",
    "\n",
    "rmse=np.sqrt(mse)\n",
    "print(\"Root Mean Squared Error: \",rmse)\n",
    "\n",
    "mae=mean_absolute_error(y_test,y_pred)\n",
    "print(\"Mean Absolute Error:\",mae)\n",
    "\n",
    "test_accuracy=r2_score(y_test,y_pred)\n",
    "print(\"Test_accuracy:\",test_accuracy)\n",
    "\n",
    "adj_r2=1-(((1-test_accuracy)*(x_test.shape[0])-1))/(x_test.shape[0]-x_test.shape[1]-1)\n",
    "print(\"Adjusted R2 Score:\",adj_r2)"
   ]
  },
  {
   "cell_type": "code",
   "execution_count": 332,
   "id": "f9afdcf1",
   "metadata": {},
   "outputs": [
    {
     "name": "stdout",
     "output_type": "stream",
     "text": [
      "Mean Squared Error:  24.56226652411024\n",
      "Root Mean Squared Error:  4.956033345742362\n",
      "Mean Absolute Error: 3.5116788249375546\n",
      "Train_accuracy: 0.7027629335857768\n",
      "Adjusted R2 Score: 0.6949375733033044\n"
     ]
    }
   ],
   "source": [
    "# Model Evaluation on Training Data\n",
    "\n",
    "y_pred_train=lasso.predict(x_train)\n",
    "\n",
    "\n",
    "mse=mean_squared_error(y_train,y_pred_train)\n",
    "print(\"Mean Squared Error: \",mse)\n",
    "\n",
    "rmse=np.sqrt(mse)\n",
    "print(\"Root Mean Squared Error: \",rmse)\n",
    "\n",
    "mae=mean_absolute_error(y_train,y_pred_train)\n",
    "print(\"Mean Absolute Error:\",mae)\n",
    "\n",
    "train_accuracy=r2_score(y_train,y_pred_train)\n",
    "print(\"Train_accuracy:\",train_accuracy)\n",
    "\n",
    "adj_r2=1-(((1-train_accuracy)*(x_train.shape[0])-1))/(x_train.shape[0]-x_train.shape[1]-1)\n",
    "print(\"Adjusted R2 Score:\",adj_r2)"
   ]
  },
  {
   "cell_type": "code",
   "execution_count": 333,
   "id": "bc714f85",
   "metadata": {},
   "outputs": [],
   "source": [
    "result_dict[\"train_accuracy\"].append(train_accuracy)\n",
    "result_dict[\"test_accuracy\"].append(test_accuracy)\n",
    "result_dict[\"mse\"].append(mse_test)\n",
    "index.append(\"lasso\")"
   ]
  },
  {
   "cell_type": "markdown",
   "id": "3f995fe5",
   "metadata": {},
   "source": [
    "# D] KNN_Regressor"
   ]
  },
  {
   "cell_type": "markdown",
   "id": "11621526",
   "metadata": {},
   "source": [
    "#### Feature Scaling"
   ]
  },
  {
   "cell_type": "markdown",
   "id": "dd9a0570",
   "metadata": {},
   "source": [
    "#####  Normalization"
   ]
  },
  {
   "cell_type": "code",
   "execution_count": 334,
   "id": "0830f733",
   "metadata": {},
   "outputs": [],
   "source": [
    "normal_scaler=MinMaxScaler()\n",
    "x_train_array = normal_scaler.fit_transform(x_train)\n",
    "x_train_n = pd.DataFrame(x_train_array, columns=x_train.columns)\n",
    "\n",
    "x_test_array = normal_scaler.transform(x_test)\n",
    "x_test_n = pd.DataFrame(x_test_array, columns=x_test.columns)"
   ]
  },
  {
   "cell_type": "code",
   "execution_count": 335,
   "id": "309022db",
   "metadata": {},
   "outputs": [
    {
     "data": {
      "text/plain": [
       "KNeighborsRegressor()"
      ]
     },
     "execution_count": 335,
     "metadata": {},
     "output_type": "execute_result"
    }
   ],
   "source": [
    "knn=KNeighborsRegressor()\n",
    "knn.fit(x_train_n,y_train)"
   ]
  },
  {
   "cell_type": "code",
   "execution_count": 336,
   "id": "9bd49a98",
   "metadata": {},
   "outputs": [
    {
     "name": "stdout",
     "output_type": "stream",
     "text": [
      "Mean Squared Error:  19.01315905511811\n",
      "Root Mean Squared Error:  4.956033345742362\n",
      "Mean Absolute Error: 3.0456692913385828\n",
      "Test_accuracy: 0.7837883088680728\n",
      "Adjusted R2 Score: 0.7679045195284671\n"
     ]
    }
   ],
   "source": [
    "# Model Evaluation on Testing Data\n",
    "y_pred=knn.predict(x_test_n)\n",
    "\n",
    "\n",
    "mse_test=mean_squared_error(y_test,y_pred)\n",
    "print(\"Mean Squared Error: \",mse_test)\n",
    "\n",
    "rmse=np.sqrt(mse)\n",
    "print(\"Root Mean Squared Error: \",rmse)\n",
    "\n",
    "mae=mean_absolute_error(y_test,y_pred)\n",
    "print(\"Mean Absolute Error:\",mae)\n",
    "\n",
    "test_accuracy=r2_score(y_test,y_pred)\n",
    "print(\"Test_accuracy:\",test_accuracy)\n",
    "\n",
    "adj_r2=1-(((1-test_accuracy)*(x_test.shape[0])-1))/(x_test.shape[0]-x_test.shape[1]-1)\n",
    "print(\"Adjusted R2 Score:\",adj_r2)"
   ]
  },
  {
   "cell_type": "code",
   "execution_count": 337,
   "id": "febe94ef",
   "metadata": {},
   "outputs": [
    {
     "name": "stdout",
     "output_type": "stream",
     "text": [
      "Mean Squared Error:  12.464861213720315\n",
      "Root Mean Squared Error:  3.530561033847215\n",
      "Mean Absolute Error: 2.327810026385224\n",
      "Train_accuracy: 0.8491581069365148\n",
      "Adjusted R2 Score: 0.8465325752156807\n"
     ]
    }
   ],
   "source": [
    "## Model Evaluation on Training Data\n",
    "\n",
    "y_pred_train=knn.predict(x_train_n)\n",
    "\n",
    "\n",
    "mse=mean_squared_error(y_train,y_pred_train)\n",
    "print(\"Mean Squared Error: \",mse)\n",
    "\n",
    "rmse=np.sqrt(mse)\n",
    "print(\"Root Mean Squared Error: \",rmse)\n",
    "\n",
    "mae=mean_absolute_error(y_train,y_pred_train)\n",
    "print(\"Mean Absolute Error:\",mae)\n",
    "\n",
    "train_accuracy=r2_score(y_train,y_pred_train)\n",
    "print(\"Train_accuracy:\",train_accuracy)\n",
    "\n",
    "adj_r2=1-(((1-train_accuracy)*(x_train.shape[0])-1))/(x_train.shape[0]-x_train.shape[1]-1)\n",
    "print(\"Adjusted R2 Score:\",adj_r2)"
   ]
  },
  {
   "cell_type": "code",
   "execution_count": 339,
   "id": "ede4ecda",
   "metadata": {},
   "outputs": [],
   "source": [
    "result_dict[\"train_accuracy\"].append(train_accuracy)\n",
    "result_dict[\"test_accuracy\"].append(test_accuracy)\n",
    "result_dict[\"mse\"].append(mse_test)\n",
    "index.append(\"knn_w/o_hp\")"
   ]
  },
  {
   "cell_type": "markdown",
   "id": "3056a48b",
   "metadata": {},
   "source": [
    "# E] KNN with HP"
   ]
  },
  {
   "cell_type": "markdown",
   "id": "5de6a34f",
   "metadata": {},
   "source": [
    "### Hyperparameter Tuning"
   ]
  },
  {
   "cell_type": "code",
   "execution_count": 341,
   "id": "aa359c50",
   "metadata": {},
   "outputs": [
    {
     "data": {
      "text/plain": [
       "KNeighborsRegressor(p=1, weights='distance')"
      ]
     },
     "execution_count": 341,
     "metadata": {},
     "output_type": "execute_result"
    }
   ],
   "source": [
    "knn_hp=KNeighborsRegressor()\n",
    "paramgrid={'n_neighbors':np.arange(3,50), 'p':[1,2], \"weights\":[\"uniform\",\"distance\"]}\n",
    "\n",
    "gscv = GridSearchCV(knn_hp, paramgrid, cv=5)\n",
    "gscv.fit(x_train_n,y_train)\n",
    "gscv.best_estimator_"
   ]
  },
  {
   "cell_type": "code",
   "execution_count": 342,
   "id": "2af8eda3",
   "metadata": {},
   "outputs": [
    {
     "data": {
      "text/plain": [
       "KNeighborsRegressor(p=1, weights='distance')"
      ]
     },
     "execution_count": 342,
     "metadata": {},
     "output_type": "execute_result"
    }
   ],
   "source": [
    "knn_hp=KNeighborsRegressor(n_neighbors=5, p=1, weights='distance')\n",
    "knn_hp.fit(x_train_n,y_train)"
   ]
  },
  {
   "cell_type": "code",
   "execution_count": 344,
   "id": "904df741",
   "metadata": {},
   "outputs": [
    {
     "name": "stdout",
     "output_type": "stream",
     "text": [
      "Mean Squared Error:  15.20528368856611\n",
      "Root Mean Squared Error:  3.530561033847215\n",
      "Mean Absolute Error: 2.7706130268196487\n",
      "Test_accuracy: 0.827090275165998\n",
      "Adjusted R2 Score: 0.8161444293515943\n"
     ]
    }
   ],
   "source": [
    "# Model Evaluation on Testing Data\n",
    "y_pred=knn_hp.predict(x_test_n)\n",
    "\n",
    "\n",
    "mse_test=mean_squared_error(y_test,y_pred)\n",
    "print(\"Mean Squared Error: \",mse_test)\n",
    "\n",
    "rmse=np.sqrt(mse)\n",
    "print(\"Root Mean Squared Error: \",rmse)\n",
    "\n",
    "mae=mean_absolute_error(y_test,y_pred)\n",
    "print(\"Mean Absolute Error:\",mae)\n",
    "\n",
    "test_accuracy=r2_score(y_test,y_pred)\n",
    "print(\"Test_accuracy:\",test_accuracy)\n",
    "\n",
    "adj_r2=1-(((1-test_accuracy)*(x_test.shape[0])-1))/(x_test.shape[0]-x_test.shape[1]-1)\n",
    "print(\"Adjusted R2 Score:\",adj_r2)"
   ]
  },
  {
   "cell_type": "code",
   "execution_count": 345,
   "id": "8d634bc6",
   "metadata": {},
   "outputs": [
    {
     "name": "stdout",
     "output_type": "stream",
     "text": [
      "Mean Squared Error:  0.0\n",
      "Root Mean Squared Error:  0.0\n",
      "Mean Absolute Error: 0.0\n",
      "Train_accuracy: 1.0\n",
      "Adjusted R2 Score: 1.0027322404371584\n"
     ]
    }
   ],
   "source": [
    "# Model Evaluation on Training Data\n",
    "\n",
    "y_pred_train=knn_hp.predict(x_train_n)\n",
    "\n",
    "\n",
    "mse=mean_squared_error(y_train,y_pred_train)\n",
    "print(\"Mean Squared Error: \",mse)\n",
    "\n",
    "rmse=np.sqrt(mse)\n",
    "print(\"Root Mean Squared Error: \",rmse)\n",
    "\n",
    "mae=mean_absolute_error(y_train,y_pred_train)\n",
    "print(\"Mean Absolute Error:\",mae)\n",
    "\n",
    "train_accuracy=r2_score(y_train,y_pred_train)\n",
    "print(\"Train_accuracy:\",train_accuracy)\n",
    "\n",
    "adj_r2=1-(((1-train_accuracy)*(x_train.shape[0])-1))/(x_train.shape[0]-x_train.shape[1]-1)\n",
    "print(\"Adjusted R2 Score:\",adj_r2)"
   ]
  },
  {
   "cell_type": "code",
   "execution_count": 346,
   "id": "0a10ffd1",
   "metadata": {},
   "outputs": [],
   "source": [
    "result_dict[\"train_accuracy\"].append(train_accuracy)\n",
    "result_dict[\"test_accuracy\"].append(test_accuracy)\n",
    "result_dict[\"mse\"].append(mse_test)\n",
    "index.append(\"knn with HP\")"
   ]
  },
  {
   "cell_type": "markdown",
   "id": "8453d627",
   "metadata": {},
   "source": [
    "# F] DecisionTreeRegressor"
   ]
  },
  {
   "cell_type": "markdown",
   "id": "a79cad50",
   "metadata": {},
   "source": [
    "### Hyperparameter Tuning"
   ]
  },
  {
   "cell_type": "code",
   "execution_count": 347,
   "id": "a1ea70ca",
   "metadata": {},
   "outputs": [
    {
     "data": {
      "text/plain": [
       "DecisionTreeRegressor(criterion='mae', max_depth=11, min_samples_split=10)"
      ]
     },
     "execution_count": 347,
     "metadata": {},
     "output_type": "execute_result"
    }
   ],
   "source": [
    "dt_reg=DecisionTreeRegressor()\n",
    "hyperparameter = {'criterion':['mse','mae'],\n",
    "                 'max_depth':np.arange(3,16),\n",
    "                 'min_samples_split':np.arange(2,20),\n",
    "                 'min_samples_split':np.arange(2,15)}\n",
    "rscv=RandomizedSearchCV(dt_reg, hyperparameter, cv=5)\n",
    "rscv.fit(x_train,y_train)\n",
    "rscv.best_estimator_"
   ]
  },
  {
   "cell_type": "code",
   "execution_count": 349,
   "id": "888788f6",
   "metadata": {},
   "outputs": [
    {
     "data": {
      "text/plain": [
       "DecisionTreeRegressor(criterion='mae', max_depth=11, min_samples_leaf=7,\n",
       "                      min_samples_split=10)"
      ]
     },
     "execution_count": 349,
     "metadata": {},
     "output_type": "execute_result"
    }
   ],
   "source": [
    "dt_reg=DecisionTreeRegressor(criterion='mae', max_depth=11, min_samples_split=10, min_samples_leaf=7)\n",
    "dt_reg.fit(x_train,y_train)"
   ]
  },
  {
   "cell_type": "code",
   "execution_count": 350,
   "id": "f57c46f9",
   "metadata": {},
   "outputs": [
    {
     "name": "stdout",
     "output_type": "stream",
     "text": [
      "Mean Squared Error:  17.165275590551182\n",
      "Root Mean Squared Error:  0.0\n",
      "Mean Absolute Error: 2.835433070866142\n",
      "Test_accuracy: 0.8048018609942877\n",
      "Adjusted R2 Score: 0.791314353914689\n"
     ]
    }
   ],
   "source": [
    "# Model Evaluation on Testing Data\n",
    "y_pred=dt_reg.predict(x_test)\n",
    "\n",
    "\n",
    "mse_test=mean_squared_error(y_test,y_pred)\n",
    "print(\"Mean Squared Error: \",mse_test)\n",
    "\n",
    "rmse=np.sqrt(mse)\n",
    "print(\"Root Mean Squared Error: \",rmse)\n",
    "\n",
    "mae=mean_absolute_error(y_test,y_pred)\n",
    "print(\"Mean Absolute Error:\",mae)\n",
    "\n",
    "test_accuracy=r2_score(y_test,y_pred)  #with prediction\n",
    "print(\"Test_accuracy:\",test_accuracy)\n",
    "\n",
    "adj_r2=1-(((1-test_accuracy)*(x_test.shape[0])-1))/(x_test.shape[0]-x_test.shape[1]-1)\n",
    "print(\"Adjusted R2 Score:\",adj_r2)"
   ]
  },
  {
   "cell_type": "code",
   "execution_count": 351,
   "id": "7f7a8a77",
   "metadata": {},
   "outputs": [
    {
     "name": "stdout",
     "output_type": "stream",
     "text": [
      "Mean Squared Error:  14.007335092348285\n",
      "Root Mean Squared Error:  3.7426374513634477\n",
      "Mean Absolute Error: 1.9350923482849605\n",
      "Train_accuracy: 0.8304920603705799\n",
      "Adjusted R2 Score: 0.8272035269957644\n"
     ]
    }
   ],
   "source": [
    "# Model Evaluation on Training Data\n",
    "\n",
    "y_pred_train=dt_reg.predict(x_train)\n",
    "\n",
    "\n",
    "mse=mean_squared_error(y_train,y_pred_train)\n",
    "print(\"Mean Squared Error: \",mse)\n",
    "\n",
    "rmse=np.sqrt(mse)\n",
    "print(\"Root Mean Squared Error: \",rmse)\n",
    "\n",
    "mae=mean_absolute_error(y_train,y_pred_train)\n",
    "print(\"Mean Absolute Error:\",mae)\n",
    "\n",
    "train_accuracy=r2_score(y_train,y_pred_train)\n",
    "print(\"Train_accuracy:\",train_accuracy)\n",
    "\n",
    "adj_r2=1-(((1-train_accuracy)*(x_train.shape[0])-1))/(x_train.shape[0]-x_train.shape[1]-1)\n",
    "\n",
    "print(\"Adjusted R2 Score:\",adj_r2)"
   ]
  },
  {
   "cell_type": "code",
   "execution_count": 352,
   "id": "e0de6e86",
   "metadata": {},
   "outputs": [],
   "source": [
    "result_dict[\"train_accuracy\"].append(train_accuracy)\n",
    "result_dict[\"test_accuracy\"].append(test_accuracy)\n",
    "result_dict[\"mse\"].append(mse_test)\n",
    "index.append(\"DT with HP\")"
   ]
  },
  {
   "cell_type": "markdown",
   "id": "a695764f",
   "metadata": {},
   "source": [
    "### Pruning"
   ]
  },
  {
   "cell_type": "code",
   "execution_count": 353,
   "id": "e5c9db3e",
   "metadata": {},
   "outputs": [
    {
     "data": {
      "text/plain": [
       "DecisionTreeRegressor(random_state=12)"
      ]
     },
     "execution_count": 353,
     "metadata": {},
     "output_type": "execute_result"
    }
   ],
   "source": [
    "dt_reg_pruning=DecisionTreeRegressor(random_state=12)\n",
    "dt_reg_pruning.fit(x_train,y_train)"
   ]
  },
  {
   "cell_type": "code",
   "execution_count": 354,
   "id": "abaadb59",
   "metadata": {},
   "outputs": [
    {
     "data": {
      "text/plain": [
       "0.35942271682688864"
      ]
     },
     "execution_count": 354,
     "metadata": {},
     "output_type": "execute_result"
    }
   ],
   "source": [
    "result=dt_reg_pruning.cost_complexity_pruning_path(x_train,y_train)\n",
    "ccp_alpha_list=result[\"ccp_alphas\"]\n",
    "ccp_alpha_list[332]"
   ]
  },
  {
   "cell_type": "code",
   "execution_count": 355,
   "id": "9d18c331",
   "metadata": {},
   "outputs": [],
   "source": [
    "train_accuracy_list=[]\n",
    "test_accuracy_list=[]\n",
    "\n",
    "for ccp_alpha in ccp_alpha_list:\n",
    "    dt_reg_alpha=DecisionTreeRegressor(random_state=30,ccp_alpha=ccp_alpha)\n",
    "    dt_reg_alpha.fit(x_train,y_train)\n",
    "    train_accuracy_list.append(dt_reg_alpha.score(x_train,y_train))\n",
    "    test_accuracy_list.append(dt_reg_alpha.score(x_test,y_test))"
   ]
  },
  {
   "cell_type": "code",
   "execution_count": 356,
   "id": "2b759b67",
   "metadata": {},
   "outputs": [
    {
     "data": {
      "text/plain": [
       "(array([332], dtype=int64),)"
      ]
     },
     "execution_count": 356,
     "metadata": {},
     "output_type": "execute_result"
    }
   ],
   "source": [
    "np.where(test_accuracy_list == np.max(test_accuracy_list))"
   ]
  },
  {
   "cell_type": "code",
   "execution_count": 357,
   "id": "45e77f9e",
   "metadata": {},
   "outputs": [
    {
     "data": {
      "text/plain": [
       "0.8094848444024747"
      ]
     },
     "execution_count": 357,
     "metadata": {},
     "output_type": "execute_result"
    }
   ],
   "source": [
    "test_accuracy_list[332]"
   ]
  },
  {
   "cell_type": "code",
   "execution_count": 358,
   "id": "a2795d99",
   "metadata": {},
   "outputs": [
    {
     "data": {
      "text/plain": [
       "<matplotlib.legend.Legend at 0x1a4d0f08160>"
      ]
     },
     "execution_count": 358,
     "metadata": {},
     "output_type": "execute_result"
    },
    {
     "data": {
      "image/png": "[encoded data removed]",
      "text/plain": [
       "<Figure size 640x480 with 1 Axes>"
      ]
     },
     "metadata": {},
     "output_type": "display_data"
    }
   ],
   "source": [
    "fig,ax=plt.subplots()\n",
    "ax.plot(ccp_alpha_list,train_accuracy_list,label=\"Training Data Accuracy\")\n",
    "ax.plot(ccp_alpha_list,test_accuracy_list,label=\"Testing Data Accuracy\")\n",
    "ax.legend()"
   ]
  },
  {
   "cell_type": "markdown",
   "id": "1712a7bc",
   "metadata": {},
   "source": [
    "### Model Training"
   ]
  },
  {
   "cell_type": "code",
   "execution_count": 359,
   "id": "f68ae1b8",
   "metadata": {},
   "outputs": [
    {
     "data": {
      "text/plain": [
       "DecisionTreeRegressor(ccp_alpha=0.35942271682688864, random_state=12)"
      ]
     },
     "execution_count": 359,
     "metadata": {},
     "output_type": "execute_result"
    }
   ],
   "source": [
    "dt_reg_pruning=DecisionTreeRegressor(ccp_alpha=ccp_alpha_list[332],random_state=12)\n",
    "dt_reg_pruning.fit(x_train,y_train)"
   ]
  },
  {
   "cell_type": "code",
   "execution_count": 360,
   "id": "7ef40f93",
   "metadata": {},
   "outputs": [
    {
     "name": "stdout",
     "output_type": "stream",
     "text": [
      "Mean Squared Error:  17.00713004218241\n",
      "Root Mean Squared Error:  3.7426374513634477\n",
      "Mean Absolute Error: 2.8526209411647883\n",
      "Test_accuracy: 0.8066002426497861\n",
      "Adjusted R2 Score: 0.7933178141800249\n"
     ]
    }
   ],
   "source": [
    "# Model Evaluation on Testing Data\n",
    "y_pred=dt_reg_pruning.predict(x_test)\n",
    "\n",
    "\n",
    "mse_test=mean_squared_error(y_test,y_pred)\n",
    "print(\"Mean Squared Error: \",mse_test)\n",
    "\n",
    "rmse=np.sqrt(mse)\n",
    "print(\"Root Mean Squared Error: \",rmse)\n",
    "\n",
    "mae=mean_absolute_error(y_test,y_pred)\n",
    "print(\"Mean Absolute Error:\",mae)\n",
    "\n",
    "test_accuracy=r2_score(y_test,y_pred)  #with prediction\n",
    "print(\"Test_accuracy:\",test_accuracy)\n",
    "\n",
    "adj_r2=1-(((1-test_accuracy)*(x_test.shape[0])-1))/(x_test.shape[0]-x_test.shape[1]-1)\n",
    "print(\"Adjusted R2 Score:\",adj_r2)"
   ]
  },
  {
   "cell_type": "code",
   "execution_count": 361,
   "id": "75661c48",
   "metadata": {},
   "outputs": [
    {
     "name": "stdout",
     "output_type": "stream",
     "text": [
      "Mean Squared Error:  7.117687208022013\n",
      "Root Mean Squared Error:  2.667899399906603\n",
      "Mean Absolute Error: 2.087724966996286\n",
      "Train_accuracy: 0.9138662361109957\n",
      "Adjusted R2 Score: 0.9135390805630256\n"
     ]
    }
   ],
   "source": [
    "## Model Evaluation on Training Data\n",
    "\n",
    "y_pred_train=dt_reg_pruning.predict(x_train)\n",
    "\n",
    "\n",
    "mse=mean_squared_error(y_train,y_pred_train)\n",
    "print(\"Mean Squared Error: \",mse)\n",
    "\n",
    "rmse=np.sqrt(mse)\n",
    "print(\"Root Mean Squared Error: \",rmse)\n",
    "\n",
    "mae=mean_absolute_error(y_train,y_pred_train)\n",
    "print(\"Mean Absolute Error:\",mae)\n",
    "\n",
    "train_accuracy=r2_score(y_train,y_pred_train)\n",
    "print(\"Train_accuracy:\",train_accuracy)\n",
    "\n",
    "adj_r2=1-(((1-train_accuracy)*(x_train.shape[0])-1))/(x_train.shape[0]-x_train.shape[1]-1)\n",
    "\n",
    "print(\"Adjusted R2 Score:\",adj_r2)"
   ]
  },
  {
   "cell_type": "code",
   "execution_count": 362,
   "id": "895780a3",
   "metadata": {},
   "outputs": [],
   "source": [
    "result_dict[\"train_accuracy\"].append(train_accuracy)\n",
    "result_dict[\"test_accuracy\"].append(test_accuracy)\n",
    "result_dict[\"mse\"].append(mse_test)\n",
    "index.append(\"DT with Pruning\")"
   ]
  },
  {
   "cell_type": "markdown",
   "id": "818b143b",
   "metadata": {},
   "source": [
    "# E] Bagging"
   ]
  },
  {
   "cell_type": "code",
   "execution_count": 363,
   "id": "cd9c882b",
   "metadata": {},
   "outputs": [
    {
     "data": {
      "text/plain": [
       "BaggingRegressor()"
      ]
     },
     "execution_count": 363,
     "metadata": {},
     "output_type": "execute_result"
    }
   ],
   "source": [
    "bag=BaggingRegressor()\n",
    "bag.fit(x_train,y_train)"
   ]
  },
  {
   "cell_type": "code",
   "execution_count": 364,
   "id": "ce9c7c73",
   "metadata": {},
   "outputs": [
    {
     "name": "stdout",
     "output_type": "stream",
     "text": [
      "Mean Squared Error:  11.492168503937007\n",
      "Root Mean Squared Error:  2.667899399906603\n",
      "Mean Absolute Error: 2.3705511811023623\n",
      "Test_accuracy: 0.8693146583476128\n",
      "Adjusted R2 Score: 0.8631838737732178\n"
     ]
    }
   ],
   "source": [
    "# Model Evaluation on Testing Data\n",
    "y_pred=bag.predict(x_test)\n",
    "\n",
    "\n",
    "mse_test=mean_squared_error(y_test,y_pred)\n",
    "print(\"Mean Squared Error: \",mse_test)\n",
    "\n",
    "rmse=np.sqrt(mse)\n",
    "print(\"Root Mean Squared Error: \",rmse)\n",
    "\n",
    "mae=mean_absolute_error(y_test,y_pred)\n",
    "print(\"Mean Absolute Error:\",mae)\n",
    "\n",
    "test_accuracy=r2_score(y_test,y_pred)  #with prediction\n",
    "print(\"Test_accuracy:\",test_accuracy)\n",
    "\n",
    "adj_r2=1-(((1-test_accuracy)*(x_test.shape[0])-1))/(x_test.shape[0]-x_test.shape[1]-1)\n",
    "print(\"Adjusted R2 Score:\",adj_r2)"
   ]
  },
  {
   "cell_type": "code",
   "execution_count": 365,
   "id": "bf4b3bd0",
   "metadata": {},
   "outputs": [
    {
     "name": "stdout",
     "output_type": "stream",
     "text": [
      "Mean Squared Error:  2.573673878627968\n",
      "Root Mean Squared Error:  1.6042673962366647\n",
      "Mean Absolute Error: 0.9827968337730871\n",
      "Train_accuracy: 0.9688550210608871\n",
      "Adjusted R2 Score: 0.9704810190767109\n"
     ]
    }
   ],
   "source": [
    "# Model Evaluation on Training Data\n",
    "\n",
    "y_pred_train=bag.predict(x_train)\n",
    "\n",
    "\n",
    "mse=mean_squared_error(y_train,y_pred_train)\n",
    "print(\"Mean Squared Error: \",mse)\n",
    "\n",
    "rmse=np.sqrt(mse)\n",
    "print(\"Root Mean Squared Error: \",rmse)\n",
    "\n",
    "mae=mean_absolute_error(y_train,y_pred_train)\n",
    "print(\"Mean Absolute Error:\",mae)\n",
    "\n",
    "train_accuracy=r2_score(y_train,y_pred_train)\n",
    "print(\"Train_accuracy:\",train_accuracy)\n",
    "\n",
    "adj_r2=1-(((1-train_accuracy)*(x_train.shape[0])-1))/(x_train.shape[0]-x_train.shape[1]-1)\n",
    "\n",
    "print(\"Adjusted R2 Score:\",adj_r2)"
   ]
  },
  {
   "cell_type": "code",
   "execution_count": 366,
   "id": "316d8aac",
   "metadata": {},
   "outputs": [],
   "source": [
    "result_dict[\"train_accuracy\"].append(train_accuracy)\n",
    "result_dict[\"test_accuracy\"].append(test_accuracy)\n",
    "result_dict[\"mse\"].append(mse_test)\n",
    "index.append(\"Bagging\")"
   ]
  },
  {
   "cell_type": "markdown",
   "id": "9d7e7b2e",
   "metadata": {},
   "source": [
    "# F] Random Forest "
   ]
  },
  {
   "cell_type": "code",
   "execution_count": 367,
   "id": "3f5b0831",
   "metadata": {},
   "outputs": [
    {
     "data": {
      "text/plain": [
       "RandomForestRegressor()"
      ]
     },
     "execution_count": 367,
     "metadata": {},
     "output_type": "execute_result"
    }
   ],
   "source": [
    "ran_forest=RandomForestRegressor()\n",
    "ran_forest.fit(x_train,y_train)"
   ]
  },
  {
   "cell_type": "code",
   "execution_count": 368,
   "id": "3afe5950",
   "metadata": {},
   "outputs": [
    {
     "name": "stdout",
     "output_type": "stream",
     "text": [
      "Mean Squared Error:  12.112419858267723\n",
      "Root Mean Squared Error:  1.6042673962366647\n",
      "Mean Absolute Error: 2.4340314960629907\n",
      "Test_accuracy: 0.8622613541671793\n",
      "Adjusted R2 Score: 0.8553262454318576\n"
     ]
    }
   ],
   "source": [
    "# Model Evaluation on Testing Data\n",
    "y_pred=ran_forest.predict(x_test)\n",
    "\n",
    "\n",
    "mse_test=mean_squared_error(y_test,y_pred)\n",
    "print(\"Mean Squared Error: \",mse_test)\n",
    "\n",
    "rmse=np.sqrt(mse)\n",
    "print(\"Root Mean Squared Error: \",rmse)\n",
    "\n",
    "mae=mean_absolute_error(y_test,y_pred)\n",
    "print(\"Mean Absolute Error:\",mae)\n",
    "\n",
    "test_accuracy=r2_score(y_test,y_pred)  #with prediction\n",
    "print(\"Test_accuracy:\",test_accuracy)\n",
    "\n",
    "adj_r2=1-(((1-test_accuracy)*(x_test.shape[0])-1))/(x_test.shape[0]-x_test.shape[1]-1)\n",
    "print(\"Adjusted R2 Score:\",adj_r2)"
   ]
  },
  {
   "cell_type": "code",
   "execution_count": 369,
   "id": "6d02ae65",
   "metadata": {},
   "outputs": [
    {
     "name": "stdout",
     "output_type": "stream",
     "text": [
      "Mean Squared Error:  1.4288121583113471\n",
      "Root Mean Squared Error:  1.1953293095675965\n",
      "Mean Absolute Error: 0.8246385224274404\n",
      "Train_accuracy: 0.98270941592558\n",
      "Adjusted R2 Score: 0.9848275099338657\n"
     ]
    }
   ],
   "source": [
    "## Model Evaluation on Training Data\n",
    "\n",
    "y_pred_train=ran_forest.predict(x_train)\n",
    "\n",
    "\n",
    "mse=mean_squared_error(y_train,y_pred_train)\n",
    "print(\"Mean Squared Error: \",mse)\n",
    "\n",
    "rmse=np.sqrt(mse)\n",
    "print(\"Root Mean Squared Error: \",rmse)\n",
    "\n",
    "mae=mean_absolute_error(y_train,y_pred_train)\n",
    "print(\"Mean Absolute Error:\",mae)\n",
    "\n",
    "train_accuracy=r2_score(y_train,y_pred_train)\n",
    "print(\"Train_accuracy:\",train_accuracy)\n",
    "\n",
    "adj_r2=1-(((1-train_accuracy)*(x_train.shape[0])-1))/(x_train.shape[0]-x_train.shape[1]-1)\n",
    "\n",
    "print(\"Adjusted R2 Score:\",adj_r2)"
   ]
  },
  {
   "cell_type": "code",
   "execution_count": 370,
   "id": "8fd88870",
   "metadata": {},
   "outputs": [],
   "source": [
    "result_dict[\"train_accuracy\"].append(train_accuracy)\n",
    "result_dict[\"test_accuracy\"].append(test_accuracy)\n",
    "result_dict[\"mse\"].append(mse_test)\n",
    "index.append(\"RF_w/o_HP\")"
   ]
  },
  {
   "cell_type": "markdown",
   "id": "06b73d2a",
   "metadata": {},
   "source": [
    "### Hyperparameter Tuning"
   ]
  },
  {
   "cell_type": "code",
   "execution_count": 373,
   "id": "fc2b0791",
   "metadata": {},
   "outputs": [
    {
     "data": {
      "text/plain": [
       "RandomForestRegressor(max_depth=4, max_features=5, min_samples_leaf=6,\n",
       "                      min_samples_split=12, n_estimators=67)"
      ]
     },
     "execution_count": 373,
     "metadata": {},
     "output_type": "execute_result"
    }
   ],
   "source": [
    "paramgrid={\"n_estimators\":np.arange(10,100),\n",
    "           \"criterion\":['squared_error',\"absolute_error\"],\n",
    "           \"max_depth\":np.arange(3,8),\n",
    "           \"min_samples_split\":np.arange(2,15),\n",
    "           \"min_samples_leaf\":np.arange(1,15),\n",
    "           \"max_features\":np.arange(1,10)}\n",
    "\n",
    "rscv_rf=RandomizedSearchCV(ran_forest,paramgrid,cv=5)\n",
    "rscv_rf.fit(x_train,y_train)\n",
    "rscv_rf.best_estimator_"
   ]
  },
  {
   "cell_type": "code",
   "execution_count": 374,
   "id": "a6baf225",
   "metadata": {},
   "outputs": [
    {
     "data": {
      "text/plain": [
       "RandomForestRegressor(max_depth=4, max_features=5, min_samples_leaf=6,\n",
       "                      min_samples_split=12, n_estimators=67)"
      ]
     },
     "execution_count": 374,
     "metadata": {},
     "output_type": "execute_result"
    }
   ],
   "source": [
    "ran_forest_hp = RandomForestRegressor(max_depth=4, max_features=5, min_samples_leaf=6, min_samples_split=12, n_estimators=67)\n",
    "ran_forest_hp.fit(x_train,y_train)"
   ]
  },
  {
   "cell_type": "code",
   "execution_count": 375,
   "id": "c362cec6",
   "metadata": {},
   "outputs": [
    {
     "name": "stdout",
     "output_type": "stream",
     "text": [
      "Mean Squared Error:  12.473900698154294\n",
      "Root Mean Squared Error:  1.1953293095675965\n",
      "Mean Absolute Error: 2.4906298390294905\n",
      "Test_accuracy: 0.8581507072474804\n",
      "Adjusted R2 Score: 0.8507468405300879\n"
     ]
    }
   ],
   "source": [
    "# Model Evaluation on Testing Data\n",
    "y_pred=ran_forest_hp.predict(x_test)\n",
    "\n",
    "\n",
    "mse_test=mean_squared_error(y_test,y_pred)\n",
    "print(\"Mean Squared Error: \",mse_test)\n",
    "\n",
    "rmse=np.sqrt(mse)\n",
    "print(\"Root Mean Squared Error: \",rmse)\n",
    "\n",
    "mae=mean_absolute_error(y_test,y_pred)\n",
    "print(\"Mean Absolute Error:\",mae)\n",
    "\n",
    "test_accuracy=r2_score(y_test,y_pred)  #with prediction\n",
    "print(\"Test_accuracy:\",test_accuracy)\n",
    "\n",
    "adj_r2=1-(((1-test_accuracy)*(x_test.shape[0])-1))/(x_test.shape[0]-x_test.shape[1]-1)\n",
    "print(\"Adjusted R2 Score:\",adj_r2)"
   ]
  },
  {
   "cell_type": "code",
   "execution_count": 376,
   "id": "643f968d",
   "metadata": {},
   "outputs": [
    {
     "name": "stdout",
     "output_type": "stream",
     "text": [
      "Mean Squared Error:  10.927984208227972\n",
      "Root Mean Squared Error:  3.3057501732931924\n",
      "Mean Absolute Error: 2.235528002405503\n",
      "Train_accuracy: 0.867756423671805\n",
      "Adjusted R2 Score: 0.865791487900585\n"
     ]
    }
   ],
   "source": [
    "# Model Evaluation on Training Data\n",
    "\n",
    "y_pred_train=ran_forest_hp.predict(x_train)\n",
    "\n",
    "\n",
    "mse=mean_squared_error(y_train,y_pred_train)\n",
    "print(\"Mean Squared Error: \",mse)\n",
    "\n",
    "rmse=np.sqrt(mse)\n",
    "print(\"Root Mean Squared Error: \",rmse)\n",
    "\n",
    "mae=mean_absolute_error(y_train,y_pred_train)\n",
    "print(\"Mean Absolute Error:\",mae)\n",
    "\n",
    "train_accuracy=r2_score(y_train,y_pred_train)\n",
    "print(\"Train_accuracy:\",train_accuracy)\n",
    "\n",
    "adj_r2=1-(((1-train_accuracy)*(x_train.shape[0])-1))/(x_train.shape[0]-x_train.shape[1]-1)\n",
    "\n",
    "print(\"Adjusted R2 Score:\",adj_r2)"
   ]
  },
  {
   "cell_type": "code",
   "execution_count": 377,
   "id": "222d164d",
   "metadata": {},
   "outputs": [],
   "source": [
    "result_dict[\"train_accuracy\"].append(train_accuracy)\n",
    "result_dict[\"test_accuracy\"].append(test_accuracy)\n",
    "result_dict[\"mse\"].append(mse_test)\n",
    "index.append(\"RF_with_HP1\")"
   ]
  },
  {
   "cell_type": "markdown",
   "id": "fde51b58",
   "metadata": {},
   "source": [
    "# G] ADABoost Regressor"
   ]
  },
  {
   "cell_type": "code",
   "execution_count": 378,
   "id": "3c05df33",
   "metadata": {},
   "outputs": [
    {
     "data": {
      "text/plain": [
       "AdaBoostRegressor()"
      ]
     },
     "execution_count": 378,
     "metadata": {},
     "output_type": "execute_result"
    }
   ],
   "source": [
    "ada_reg=AdaBoostRegressor()\n",
    "ada_reg.fit(x_train,y_train)"
   ]
  },
  {
   "cell_type": "code",
   "execution_count": 379,
   "id": "6a1f6b04",
   "metadata": {},
   "outputs": [
    {
     "name": "stdout",
     "output_type": "stream",
     "text": [
      "Mean Squared Error:  16.503736207083463\n",
      "Root Mean Squared Error:  4.062479071587134\n",
      "Mean Absolute Error: 2.9607932947084836\n",
      "Test_accuracy: 0.8123246797134329\n",
      "Adjusted R2 Score: 0.7996950379263682\n"
     ]
    }
   ],
   "source": [
    "# Model Evaluation on Testing Data\n",
    "y_pred=ada_reg.predict(x_test)\n",
    "\n",
    "\n",
    "mse_test=mean_squared_error(y_test,y_pred)\n",
    "print(\"Mean Squared Error: \",mse_test)\n",
    "\n",
    "rmse=np.sqrt(mse_test)\n",
    "print(\"Root Mean Squared Error: \",rmse)\n",
    "\n",
    "mae=mean_absolute_error(y_test,y_pred)\n",
    "print(\"Mean Absolute Error:\",mae)\n",
    "\n",
    "test_accuracy=r2_score(y_test,y_pred)  #with prediction\n",
    "print(\"Test_accuracy:\",test_accuracy)\n",
    "\n",
    "adj_r2=1-(((1-test_accuracy)*(x_test.shape[0])-1))/(x_test.shape[0]-x_test.shape[1]-1)\n",
    "print(\"Adjusted R2 Score:\",adj_r2)"
   ]
  },
  {
   "cell_type": "code",
   "execution_count": 380,
   "id": "e6b42a4e",
   "metadata": {},
   "outputs": [
    {
     "name": "stdout",
     "output_type": "stream",
     "text": [
      "Mean Squared Error:  7.779979294798927\n",
      "Root Mean Squared Error:  4.062479071587134\n",
      "Mean Absolute Error: 2.2890736374624576\n",
      "Train_accuracy: 0.905851594758998\n",
      "Adjusted R2 Score: 0.9052397661575416\n"
     ]
    }
   ],
   "source": [
    "# Model Evaluation on Training Data\n",
    "\n",
    "y_pred_train=ada_reg.predict(x_train)\n",
    "\n",
    "\n",
    "mse=mean_squared_error(y_train,y_pred_train)\n",
    "print(\"Mean Squared Error: \",mse)\n",
    "\n",
    "rmse=np.sqrt(mse_test)\n",
    "print(\"Root Mean Squared Error: \",rmse)\n",
    "\n",
    "mae=mean_absolute_error(y_train,y_pred_train)\n",
    "print(\"Mean Absolute Error:\",mae)\n",
    "\n",
    "train_accuracy=r2_score(y_train,y_pred_train)\n",
    "print(\"Train_accuracy:\",train_accuracy)\n",
    "\n",
    "adj_r2=1-(((1-train_accuracy)*(x_train.shape[0])-1))/(x_train.shape[0]-x_train.shape[1]-1)\n",
    "\n",
    "print(\"Adjusted R2 Score:\",adj_r2)"
   ]
  },
  {
   "cell_type": "code",
   "execution_count": 381,
   "id": "2ed2c847",
   "metadata": {},
   "outputs": [],
   "source": [
    "result_dict[\"train_accuracy\"].append(train_accuracy)\n",
    "result_dict[\"test_accuracy\"].append(test_accuracy)\n",
    "result_dict[\"mse\"].append(mse_test)\n",
    "index.append(\"AdaBoost_w/o_HP\")"
   ]
  },
  {
   "cell_type": "markdown",
   "id": "981a22e1",
   "metadata": {},
   "source": [
    "### Hyperparameter Tuning"
   ]
  },
  {
   "cell_type": "code",
   "execution_count": 382,
   "id": "29709e83",
   "metadata": {},
   "outputs": [
    {
     "data": {
      "text/plain": [
       "AdaBoostRegressor(learning_rate=0.9, n_estimators=72, random_state=12)"
      ]
     },
     "execution_count": 382,
     "metadata": {},
     "output_type": "execute_result"
    }
   ],
   "source": [
    "paramgrid={\"n_estimators\":np.arange(10,100),\"learning_rate\":np.arange(0.1,1,0.1),\"random_state\":[12]}\n",
    "rscv=RandomizedSearchCV(ada_reg,paramgrid,cv=5)\n",
    "rscv.fit(x_train,y_train)\n",
    "rscv.best_estimator_"
   ]
  },
  {
   "cell_type": "code",
   "execution_count": 383,
   "id": "b9ae4f8b",
   "metadata": {},
   "outputs": [
    {
     "data": {
      "text/plain": [
       "AdaBoostRegressor(learning_rate=0.9, n_estimators=72, random_state=12)"
      ]
     },
     "execution_count": 383,
     "metadata": {},
     "output_type": "execute_result"
    }
   ],
   "source": [
    "ada_reg_hp=AdaBoostRegressor(learning_rate=0.9, n_estimators=72, random_state=12)\n",
    "ada_reg_hp.fit(x_train,y_train)"
   ]
  },
  {
   "cell_type": "code",
   "execution_count": 384,
   "id": "a08a7b93",
   "metadata": {},
   "outputs": [
    {
     "name": "stdout",
     "output_type": "stream",
     "text": [
      "Mean Squared Error:  15.05941477387016\n",
      "Root Mean Squared Error:  3.8806461799383567\n",
      "Mean Absolute Error: 2.7926426614395847\n",
      "Test_accuracy: 0.8287490507875852\n",
      "Adjusted R2 Score: 0.8179923635966958\n"
     ]
    }
   ],
   "source": [
    "# Model Evaluation on Testing Data\n",
    "y_pred=ada_reg_hp.predict(x_test)\n",
    "\n",
    "\n",
    "mse_test=mean_squared_error(y_test,y_pred)\n",
    "print(\"Mean Squared Error: \",mse_test)\n",
    "\n",
    "rmse=np.sqrt(mse_test)\n",
    "print(\"Root Mean Squared Error: \",rmse)\n",
    "\n",
    "mae=mean_absolute_error(y_test,y_pred)\n",
    "print(\"Mean Absolute Error:\",mae)\n",
    "\n",
    "test_accuracy=r2_score(y_test,y_pred)  #with prediction\n",
    "print(\"Test_accuracy:\",test_accuracy)\n",
    "\n",
    "adj_r2=1-(((1-test_accuracy)*(x_test.shape[0])-1))/(x_test.shape[0]-x_test.shape[1]-1)\n",
    "print(\"Adjusted R2 Score:\",adj_r2)"
   ]
  },
  {
   "cell_type": "code",
   "execution_count": 385,
   "id": "905320fc",
   "metadata": {},
   "outputs": [
    {
     "name": "stdout",
     "output_type": "stream",
     "text": [
      "Mean Squared Error:  7.368759478935847\n",
      "Root Mean Squared Error:  3.8806461799383567\n",
      "Mean Absolute Error: 2.222249071817242\n",
      "Train_accuracy: 0.9108279177542133\n",
      "Adjusted R2 Score: 0.9103928437946636\n"
     ]
    }
   ],
   "source": [
    "# Model Evaluation on Training Data\n",
    "\n",
    "y_pred_train=ada_reg_hp.predict(x_train)\n",
    "\n",
    "\n",
    "mse=mean_squared_error(y_train,y_pred_train)\n",
    "print(\"Mean Squared Error: \",mse)\n",
    "\n",
    "rmse=np.sqrt(mse_test)\n",
    "print(\"Root Mean Squared Error: \",rmse)\n",
    "\n",
    "mae=mean_absolute_error(y_train,y_pred_train)\n",
    "print(\"Mean Absolute Error:\",mae)\n",
    "\n",
    "train_accuracy=r2_score(y_train,y_pred_train)\n",
    "print(\"Train_accuracy:\",train_accuracy)\n",
    "\n",
    "adj_r2=1-(((1-train_accuracy)*(x_train.shape[0])-1))/(x_train.shape[0]-x_train.shape[1]-1)\n",
    "\n",
    "print(\"Adjusted R2 Score:\",adj_r2)"
   ]
  },
  {
   "cell_type": "code",
   "execution_count": 386,
   "id": "c9baa4a5",
   "metadata": {},
   "outputs": [],
   "source": [
    "result_dict[\"train_accuracy\"].append(train_accuracy)\n",
    "result_dict[\"test_accuracy\"].append(test_accuracy)\n",
    "result_dict[\"mse\"].append(mse_test)\n",
    "index.append(\"AdaBoost_with_HP\")"
   ]
  },
  {
   "cell_type": "markdown",
   "id": "16aa178d",
   "metadata": {},
   "source": [
    "## Creating dataframe of results for all models¶"
   ]
  },
  {
   "cell_type": "code",
   "execution_count": 387,
   "id": "c45ca9eb",
   "metadata": {},
   "outputs": [
    {
     "data": {
      "text/html": [
       "<div>\n",
       "<style scoped>\n",
       "    .dataframe tbody tr th:only-of-type {\n",
       "        vertical-align: middle;\n",
       "    }\n",
       "\n",
       "    .dataframe tbody tr th {\n",
       "        vertical-align: top;\n",
       "    }\n",
       "\n",
       "    .dataframe thead th {\n",
       "        text-align: right;\n",
       "    }\n",
       "</style>\n",
       "<table border=\"1\" class=\"dataframe\">\n",
       "  <thead>\n",
       "    <tr style=\"text-align: right;\">\n",
       "      <th></th>\n",
       "      <th>train_accuracy</th>\n",
       "      <th>test_accuracy</th>\n",
       "      <th>mse</th>\n",
       "    </tr>\n",
       "  </thead>\n",
       "  <tbody>\n",
       "    <tr>\n",
       "      <th>Bagging</th>\n",
       "      <td>0.968855</td>\n",
       "      <td>0.869315</td>\n",
       "      <td>11.492169</td>\n",
       "    </tr>\n",
       "    <tr>\n",
       "      <th>RF_w/o_HP</th>\n",
       "      <td>0.982709</td>\n",
       "      <td>0.862261</td>\n",
       "      <td>12.112420</td>\n",
       "    </tr>\n",
       "    <tr>\n",
       "      <th>RF_with_HP1</th>\n",
       "      <td>0.867756</td>\n",
       "      <td>0.858151</td>\n",
       "      <td>12.473901</td>\n",
       "    </tr>\n",
       "    <tr>\n",
       "      <th>AdaBoost_with_HP</th>\n",
       "      <td>0.910828</td>\n",
       "      <td>0.828749</td>\n",
       "      <td>15.059415</td>\n",
       "    </tr>\n",
       "    <tr>\n",
       "      <th>knn with HP</th>\n",
       "      <td>1.000000</td>\n",
       "      <td>0.827090</td>\n",
       "      <td>15.205284</td>\n",
       "    </tr>\n",
       "    <tr>\n",
       "      <th>AdaBoost_w/o_HP</th>\n",
       "      <td>0.905852</td>\n",
       "      <td>0.812325</td>\n",
       "      <td>16.503736</td>\n",
       "    </tr>\n",
       "    <tr>\n",
       "      <th>DT with Pruning</th>\n",
       "      <td>0.913866</td>\n",
       "      <td>0.806600</td>\n",
       "      <td>17.007130</td>\n",
       "    </tr>\n",
       "    <tr>\n",
       "      <th>DT with HP</th>\n",
       "      <td>0.830492</td>\n",
       "      <td>0.804802</td>\n",
       "      <td>17.165276</td>\n",
       "    </tr>\n",
       "    <tr>\n",
       "      <th>knn_w/o_hp</th>\n",
       "      <td>0.849158</td>\n",
       "      <td>0.783788</td>\n",
       "      <td>19.013159</td>\n",
       "    </tr>\n",
       "    <tr>\n",
       "      <th>knn_w/o_hp</th>\n",
       "      <td>0.849158</td>\n",
       "      <td>0.783788</td>\n",
       "      <td>19.013159</td>\n",
       "    </tr>\n",
       "    <tr>\n",
       "      <th>linear_reg</th>\n",
       "      <td>0.703170</td>\n",
       "      <td>0.703170</td>\n",
       "      <td>24.528616</td>\n",
       "    </tr>\n",
       "    <tr>\n",
       "      <th>lasso</th>\n",
       "      <td>0.702763</td>\n",
       "      <td>0.693906</td>\n",
       "      <td>26.917239</td>\n",
       "    </tr>\n",
       "    <tr>\n",
       "      <th>ridge</th>\n",
       "      <td>0.703170</td>\n",
       "      <td>0.692715</td>\n",
       "      <td>27.021948</td>\n",
       "    </tr>\n",
       "  </tbody>\n",
       "</table>\n",
       "</div>"
      ],
      "text/plain": [
       "                  train_accuracy  test_accuracy        mse\n",
       "Bagging                 0.968855       0.869315  11.492169\n",
       "RF_w/o_HP               0.982709       0.862261  12.112420\n",
       "RF_with_HP1             0.867756       0.858151  12.473901\n",
       "AdaBoost_with_HP        0.910828       0.828749  15.059415\n",
       "knn with HP             1.000000       0.827090  15.205284\n",
       "AdaBoost_w/o_HP         0.905852       0.812325  16.503736\n",
       "DT with Pruning         0.913866       0.806600  17.007130\n",
       "DT with HP              0.830492       0.804802  17.165276\n",
       "knn_w/o_hp              0.849158       0.783788  19.013159\n",
       "knn_w/o_hp              0.849158       0.783788  19.013159\n",
       "linear_reg              0.703170       0.703170  24.528616\n",
       "lasso                   0.702763       0.693906  26.917239\n",
       "ridge                   0.703170       0.692715  27.021948"
      ]
     },
     "execution_count": 387,
     "metadata": {},
     "output_type": "execute_result"
    }
   ],
   "source": [
    "result_df=pd.DataFrame(result_dict,index=index)\n",
    "final_result=result_df.sort_values(\"test_accuracy\",ascending=False)\n",
    "final_result"
   ]
  },
  {
   "cell_type": "code",
   "execution_count": 388,
   "id": "510a683d",
   "metadata": {},
   "outputs": [
    {
     "data": {
      "text/plain": [
       "<AxesSubplot:>"
      ]
     },
     "execution_count": 388,
     "metadata": {},
     "output_type": "execute_result"
    },
    {
     "data": {
      "image/png": "[encoded data removed]",
      "text/plain": [
       "<Figure size 1000x800 with 1 Axes>"
      ]
     },
     "metadata": {},
     "output_type": "display_data"
    }
   ],
   "source": [
    "final_result[[\"train_accuracy\",\"test_accuracy\"]].plot(kind=\"barh\",figsize=(10,8))"
   ]
  },
  {
   "cell_type": "code",
   "execution_count": 389,
   "id": "d393f17b",
   "metadata": {},
   "outputs": [
    {
     "data": {
      "text/plain": [
       "<AxesSubplot:>"
      ]
     },
     "execution_count": 389,
     "metadata": {},
     "output_type": "execute_result"
    },
    {
     "data": {
      "image/png": "[encoded data removed]",
      "text/plain": [
       "<Figure size 1000x800 with 1 Axes>"
      ]
     },
     "metadata": {},
     "output_type": "display_data"
    }
   ],
   "source": [
    "final_result[[\"mse\"]].plot(kind=\"barh\",figsize=(10,8))"
   ]
  }
 ],
 "metadata": {
  "kernelspec": {
   "display_name": "Python 3 (ipykernel)",
   "language": "python",
   "name": "python3"
  },
  "language_info": {
   "codemirror_mode": {
    "name": "ipython",
    "version": 3
   },
   "file_extension": ".py",
   "mimetype": "text/x-python",
   "name": "python",
   "nbconvert_exporter": "python",
   "pygments_lexer": "ipython3",
   "version": "3.9.13"
  }
 },
 "nbformat": 4,
 "nbformat_minor": 5
}
